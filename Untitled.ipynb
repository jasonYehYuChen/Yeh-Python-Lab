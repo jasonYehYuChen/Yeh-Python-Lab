{
 "cells": [
  {
   "cell_type": "code",
   "execution_count": 1,
   "metadata": {},
   "outputs": [
    {
     "ename": "IndentationError",
     "evalue": "expected an indented block (<ipython-input-1-42214f13e062>, line 9)",
     "output_type": "error",
     "traceback": [
      "\u001b[1;36m  File \u001b[1;32m\"<ipython-input-1-42214f13e062>\"\u001b[1;36m, line \u001b[1;32m9\u001b[0m\n\u001b[1;33m    Stephen_Curry = Image.open(mainPath+\"{:.0f}\".format(pathIndex)+'.png')\u001b[0m\n\u001b[1;37m                ^\u001b[0m\n\u001b[1;31mIndentationError\u001b[0m\u001b[1;31m:\u001b[0m expected an indented block\n"
     ]
    }
   ],
   "source": [
    "%matplotlib inline\n",
    "import numpy as np\n",
    "import matplotlib.pyplot as plt\n",
    "from PIL import Image\n",
    "\n",
    "mainPath = '/home/gtx1080/Downloads/nba/nba'\n",
    "\n",
    "def move(pathIndex):\n",
    "    Stephen_Curry = Image.open(mainPath+\"{:.0f}\".format(pathIndex)+'.png')\n",
    "plt.imshow(Stephen_Curry) \n",
    "plt.show()\n",
    "\n",
    "from ipywidgets import interact\n",
    "interact(move,pathIndex = (1,35) )"
   ]
  },
  {
   "cell_type": "code",
   "execution_count": null,
   "metadata": {},
   "outputs": [],
   "source": []
  }
 ],
 "metadata": {
  "kernelspec": {
   "display_name": "Python 3",
   "language": "python",
   "name": "python3"
  },
  "language_info": {
   "codemirror_mode": {
    "name": "ipython",
    "version": 3
   },
   "file_extension": ".py",
   "mimetype": "text/x-python",
   "name": "python",
   "nbconvert_exporter": "python",
   "pygments_lexer": "ipython3",
   "version": "3.7.1"
  }
 },
 "nbformat": 4,
 "nbformat_minor": 2
}
