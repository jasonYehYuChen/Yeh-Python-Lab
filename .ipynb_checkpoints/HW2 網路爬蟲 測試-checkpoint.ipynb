{
 "cells": [
  {
   "cell_type": "code",
   "execution_count": 35,
   "metadata": {},
   "outputs": [],
   "source": [
    "import requests\n",
    "import json\n",
    "import csv\n",
    "import"
   ]
  },
  {
   "cell_type": "code",
   "execution_count": null,
   "metadata": {},
   "outputs": [],
   "source": [
    "url_twse = 'http://www.twse.com.tw/exchangeReport/STOCK_DAY?response=json&date=20190201&stockNo=2330&'\n",
    "res = requests.get(url_twse)\n",
    "s = json.loads(res.text)\n",
    "#把擷取下來的資料讀出"
   ]
  },
  {
   "cell_type": "code",
   "execution_count": 32,
   "metadata": {},
   "outputs": [],
   "source": [
    "#for data in (s['data']):\n",
    "    #print(data)"
   ]
  },
  {
   "cell_type": "code",
   "execution_count": 33,
   "metadata": {},
   "outputs": [],
   "source": [
    "outputfile = open(r'C:\\Users\\jason\\Desktop\\Python  ML\\HW2\\output.csv','w',newline='')\n",
    "outputwrfile = csv.writer(outputfile)\n",
    "outputwrfile.writerow(s['title'])\n",
    "outputwrfile.writerow(s['fiedls'])\n",
    "for data in (s['data']):\n",
    "    outputwrfile.writerow(data)\n",
    "outputfile.close()"
   ]
  },
  {
   "cell_type": "code",
   "execution_count": 34,
   "metadata": {},
   "outputs": [],
   "source": []
  },
  {
   "cell_type": "code",
   "execution_count": null,
   "metadata": {},
   "outputs": [],
   "source": []
  }
 ],
 "metadata": {
  "kernelspec": {
   "display_name": "Python 3",
   "language": "python",
   "name": "python3"
  },
  "language_info": {
   "codemirror_mode": {
    "name": "ipython",
    "version": 3
   },
   "file_extension": ".py",
   "mimetype": "text/x-python",
   "name": "python",
   "nbconvert_exporter": "python",
   "pygments_lexer": "ipython3",
   "version": "3.7.1"
  }
 },
 "nbformat": 4,
 "nbformat_minor": 2
}
