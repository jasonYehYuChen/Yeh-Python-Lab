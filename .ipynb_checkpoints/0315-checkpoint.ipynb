{
 "cells": [
  {
   "cell_type": "code",
   "execution_count": 7,
   "metadata": {},
   "outputs": [],
   "source": [
    "%matplotlib inline\n",
    "\n",
    "import matplotlib.pyplot as plt\n",
    "import numpy as np\n",
    "import pandas as pd\n"
   ]
  },
  {
   "cell_type": "code",
   "execution_count": 8,
   "metadata": {},
   "outputs": [
    {
     "data": {
      "text/plain": [
       "[40, 41, 42, 40, 37, 36, 36]"
      ]
     },
     "execution_count": 8,
     "metadata": {},
     "output_type": "execute_result"
    }
   ],
   "source": [
    "grades = [35,36,37,35,32,31,31]\n",
    "curved = []\n",
    "for g in grades:\n",
    "    curved.append(g+5)\n",
    "curved"
   ]
  },
  {
   "cell_type": "code",
   "execution_count": 10,
   "metadata": {},
   "outputs": [],
   "source": [
    "grades_arr = np.array(grades)"
   ]
  },
  {
   "cell_type": "code",
   "execution_count": 11,
   "metadata": {},
   "outputs": [
    {
     "data": {
      "text/plain": [
       "array([42.5, 43.6, 44.7, 42.5, 39.2, 38.1, 38.1])"
      ]
     },
     "execution_count": 11,
     "metadata": {},
     "output_type": "execute_result"
    }
   ],
   "source": [
    "grades_arr*1.1+4"
   ]
  },
  {
   "cell_type": "code",
   "execution_count": 12,
   "metadata": {},
   "outputs": [
    {
     "data": {
      "text/plain": [
       "array([17., 35., 64.])"
      ]
     },
     "execution_count": 12,
     "metadata": {},
     "output_type": "execute_result"
    }
   ],
   "source": [
    "grades = np.array([85,70,80])\n",
    "weighrs = np.array([0.2,0.5,0.8])\n",
    "wargeds = weighrs*grades\n",
    "wargeds"
   ]
  },
  {
   "cell_type": "code",
   "execution_count": 13,
   "metadata": {},
   "outputs": [
    {
     "data": {
      "text/plain": [
       "116.0"
      ]
     },
     "execution_count": 13,
     "metadata": {},
     "output_type": "execute_result"
    }
   ],
   "source": [
    "wargeds.sum()"
   ]
  },
  {
   "cell_type": "code",
   "execution_count": 14,
   "metadata": {},
   "outputs": [
    {
     "data": {
      "text/plain": [
       "116.0"
      ]
     },
     "execution_count": 14,
     "metadata": {},
     "output_type": "execute_result"
    }
   ],
   "source": [
    "grades @ weighrs"
   ]
  },
  {
   "cell_type": "code",
   "execution_count": 16,
   "metadata": {},
   "outputs": [],
   "source": [
    "grades = np.array([[85,70,70],\n",
    "                   [12,15,16],\n",
    "                   [55,56,57]])"
   ]
  },
  {
   "cell_type": "code",
   "execution_count": 18,
   "metadata": {},
   "outputs": [],
   "source": [
    "warged= grades *weighrs"
   ]
  },
  {
   "cell_type": "code",
   "execution_count": 19,
   "metadata": {},
   "outputs": [
    {
     "data": {
      "text/plain": [
       "array([[17. , 35. , 56. ],\n",
       "       [ 2.4,  7.5, 12.8],\n",
       "       [11. , 28. , 45.6]])"
      ]
     },
     "execution_count": 19,
     "metadata": {},
     "output_type": "execute_result"
    }
   ],
   "source": [
    "wargeds"
   ]
  },
  {
   "cell_type": "code",
   "execution_count": 21,
   "metadata": {},
   "outputs": [
    {
     "data": {
      "text/plain": [
       "array([108. ,  22.7,  84.6])"
      ]
     },
     "execution_count": 21,
     "metadata": {},
     "output_type": "execute_result"
    }
   ],
   "source": [
    "wargeds.sum(axis=1)"
   ]
  },
  {
   "cell_type": "code",
   "execution_count": 26,
   "metadata": {},
   "outputs": [
    {
     "data": {
      "text/plain": [
       "(3, 3)"
      ]
     },
     "execution_count": 26,
     "metadata": {},
     "output_type": "execute_result"
    }
   ],
   "source": [
    "wargeds.shape"
   ]
  },
  {
   "cell_type": "code",
   "execution_count": 28,
   "metadata": {},
   "outputs": [
    {
     "data": {
      "text/plain": [
       "array([8375., 1753., 6543.])"
      ]
     },
     "execution_count": 28,
     "metadata": {},
     "output_type": "execute_result"
    }
   ],
   "source": [
    "grades @ wargeds"
   ]
  },
  {
   "cell_type": "code",
   "execution_count": 31,
   "metadata": {},
   "outputs": [],
   "source": [
    "A=np.random.randint(0,10,50)"
   ]
  },
  {
   "cell_type": "code",
   "execution_count": 32,
   "metadata": {},
   "outputs": [
    {
     "data": {
      "text/plain": [
       "array([2, 6, 3, 0, 2, 8, 5, 4, 5, 2, 8, 0, 8, 0, 1, 9, 0, 7, 2, 9, 8, 5,\n",
       "       7, 3, 4, 7, 1, 2, 7, 5, 7, 9, 3, 5, 9, 3, 1, 4, 6, 4, 4, 8, 6, 1,\n",
       "       9, 7, 3, 0, 4, 8])"
      ]
     },
     "execution_count": 32,
     "metadata": {},
     "output_type": "execute_result"
    }
   ],
   "source": [
    "A"
   ]
  },
  {
   "cell_type": "code",
   "execution_count": 33,
   "metadata": {},
   "outputs": [
    {
     "data": {
      "text/plain": [
       "(50,)"
      ]
     },
     "execution_count": 33,
     "metadata": {},
     "output_type": "execute_result"
    }
   ],
   "source": [
    "A.shape"
   ]
  },
  {
   "cell_type": "code",
   "execution_count": 34,
   "metadata": {},
   "outputs": [],
   "source": [
    "A.shape = (5,10)"
   ]
  },
  {
   "cell_type": "code",
   "execution_count": 35,
   "metadata": {},
   "outputs": [
    {
     "data": {
      "text/plain": [
       "array([[2, 6, 3, 0, 2, 8, 5, 4, 5, 2],\n",
       "       [8, 0, 8, 0, 1, 9, 0, 7, 2, 9],\n",
       "       [8, 5, 7, 3, 4, 7, 1, 2, 7, 5],\n",
       "       [7, 9, 3, 5, 9, 3, 1, 4, 6, 4],\n",
       "       [4, 8, 6, 1, 9, 7, 3, 0, 4, 8]])"
      ]
     },
     "execution_count": 35,
     "metadata": {},
     "output_type": "execute_result"
    }
   ],
   "source": [
    "A"
   ]
  },
  {
   "cell_type": "code",
   "execution_count": 36,
   "metadata": {},
   "outputs": [
    {
     "data": {
      "text/plain": [
       "array([[2, 6, 3, 0, 2],\n",
       "       [8, 5, 4, 5, 2],\n",
       "       [8, 0, 8, 0, 1],\n",
       "       [9, 0, 7, 2, 9],\n",
       "       [8, 5, 7, 3, 4],\n",
       "       [7, 1, 2, 7, 5],\n",
       "       [7, 9, 3, 5, 9],\n",
       "       [3, 1, 4, 6, 4],\n",
       "       [4, 8, 6, 1, 9],\n",
       "       [7, 3, 0, 4, 8]])"
      ]
     },
     "execution_count": 36,
     "metadata": {},
     "output_type": "execute_result"
    }
   ],
   "source": [
    "A.reshape(10,5)"
   ]
  },
  {
   "cell_type": "code",
   "execution_count": 37,
   "metadata": {},
   "outputs": [
    {
     "data": {
      "text/plain": [
       "array([[2, 6, 3, 0, 2, 8, 5, 4, 5, 2],\n",
       "       [8, 0, 8, 0, 1, 9, 0, 7, 2, 9],\n",
       "       [8, 5, 7, 3, 4, 7, 1, 2, 7, 5],\n",
       "       [7, 9, 3, 5, 9, 3, 1, 4, 6, 4],\n",
       "       [4, 8, 6, 1, 9, 7, 3, 0, 4, 8]])"
      ]
     },
     "execution_count": 37,
     "metadata": {},
     "output_type": "execute_result"
    }
   ],
   "source": [
    "A"
   ]
  },
  {
   "cell_type": "code",
   "execution_count": 38,
   "metadata": {},
   "outputs": [],
   "source": [
    "A= A.reshape(10,5)"
   ]
  },
  {
   "cell_type": "code",
   "execution_count": 39,
   "metadata": {},
   "outputs": [
    {
     "data": {
      "text/plain": [
       "array([[2, 6, 3, 0, 2],\n",
       "       [8, 5, 4, 5, 2],\n",
       "       [8, 0, 8, 0, 1],\n",
       "       [9, 0, 7, 2, 9],\n",
       "       [8, 5, 7, 3, 4],\n",
       "       [7, 1, 2, 7, 5],\n",
       "       [7, 9, 3, 5, 9],\n",
       "       [3, 1, 4, 6, 4],\n",
       "       [4, 8, 6, 1, 9],\n",
       "       [7, 3, 0, 4, 8]])"
      ]
     },
     "execution_count": 39,
     "metadata": {},
     "output_type": "execute_result"
    }
   ],
   "source": [
    "A"
   ]
  },
  {
   "cell_type": "code",
   "execution_count": 40,
   "metadata": {},
   "outputs": [
    {
     "data": {
      "text/plain": [
       "array([2, 6, 3, 0, 2, 8, 5, 4, 5, 2, 8, 0, 8, 0, 1, 9, 0, 7, 2, 9, 8, 5,\n",
       "       7, 3, 4, 7, 1, 2, 7, 5, 7, 9, 3, 5, 9, 3, 1, 4, 6, 4, 4, 8, 6, 1,\n",
       "       9, 7, 3, 0, 4, 8])"
      ]
     },
     "execution_count": 40,
     "metadata": {},
     "output_type": "execute_result"
    }
   ],
   "source": [
    "A.ravel()"
   ]
  },
  {
   "cell_type": "code",
   "execution_count": 42,
   "metadata": {},
   "outputs": [
    {
     "data": {
      "text/plain": [
       "array([0., 0., 0., 0., 0., 0., 0., 0., 0., 0.])"
      ]
     },
     "execution_count": 42,
     "metadata": {},
     "output_type": "execute_result"
    }
   ],
   "source": [
    "np.zeros(10)"
   ]
  },
  {
   "cell_type": "code",
   "execution_count": 43,
   "metadata": {},
   "outputs": [
    {
     "data": {
      "text/plain": [
       "array([[0., 0., 0., 0.],\n",
       "       [0., 0., 0., 0.],\n",
       "       [0., 0., 0., 0.]])"
      ]
     },
     "execution_count": 43,
     "metadata": {},
     "output_type": "execute_result"
    }
   ],
   "source": [
    "np.zeros((3,4))"
   ]
  },
  {
   "cell_type": "code",
   "execution_count": 44,
   "metadata": {},
   "outputs": [
    {
     "data": {
      "text/plain": [
       "array([[1., 0., 0., 0., 0.],\n",
       "       [0., 1., 0., 0., 0.],\n",
       "       [0., 0., 1., 0., 0.],\n",
       "       [0., 0., 0., 1., 0.],\n",
       "       [0., 0., 0., 0., 1.]])"
      ]
     },
     "execution_count": 44,
     "metadata": {},
     "output_type": "execute_result"
    }
   ],
   "source": [
    "np.eye(5)"
   ]
  },
  {
   "cell_type": "code",
   "execution_count": 45,
   "metadata": {},
   "outputs": [
    {
     "data": {
      "text/plain": [
       "array([[1., 1., 1., 1., 1., 1., 1.],\n",
       "       [1., 1., 1., 1., 1., 1., 1.],\n",
       "       [1., 1., 1., 1., 1., 1., 1.],\n",
       "       [1., 1., 1., 1., 1., 1., 1.],\n",
       "       [1., 1., 1., 1., 1., 1., 1.],\n",
       "       [1., 1., 1., 1., 1., 1., 1.],\n",
       "       [1., 1., 1., 1., 1., 1., 1.],\n",
       "       [1., 1., 1., 1., 1., 1., 1.]])"
      ]
     },
     "execution_count": 45,
     "metadata": {},
     "output_type": "execute_result"
    }
   ],
   "source": [
    "np.ones((8,7))"
   ]
  },
  {
   "cell_type": "code",
   "execution_count": 46,
   "metadata": {},
   "outputs": [
    {
     "data": {
      "text/plain": [
       "array([[1, 0, 0],\n",
       "       [0, 2, 0],\n",
       "       [0, 0, 3]])"
      ]
     },
     "execution_count": 46,
     "metadata": {},
     "output_type": "execute_result"
    }
   ],
   "source": [
    "np.diag((1,2,3,))"
   ]
  },
  {
   "cell_type": "code",
   "execution_count": 48,
   "metadata": {},
   "outputs": [
    {
     "data": {
      "text/plain": [
       "array([1, 5, 9])"
      ]
     },
     "execution_count": 48,
     "metadata": {},
     "output_type": "execute_result"
    }
   ],
   "source": [
    "A = np.array([[1,2,3],[4,5,6],[7,8,9]])\n",
    "np.diag(A)"
   ]
  },
  {
   "cell_type": "code",
   "execution_count": 49,
   "metadata": {},
   "outputs": [],
   "source": [
    "L= np.array([3,-5,6,-1,-8,-9,10,12])"
   ]
  },
  {
   "cell_type": "code",
   "execution_count": 50,
   "metadata": {},
   "outputs": [],
   "source": [
    "want = np.array([True,False,True,False,False,False])"
   ]
  },
  {
   "cell_type": "code",
   "execution_count": 51,
   "metadata": {},
   "outputs": [
    {
     "data": {
      "text/plain": [
       "array([ True, False,  True, False, False, False,  True,  True])"
      ]
     },
     "execution_count": 51,
     "metadata": {},
     "output_type": "execute_result"
    }
   ],
   "source": [
    "L>0"
   ]
  },
  {
   "cell_type": "code",
   "execution_count": 52,
   "metadata": {},
   "outputs": [
    {
     "data": {
      "text/plain": [
       "array([ 3,  6, 10, 12])"
      ]
     },
     "execution_count": 52,
     "metadata": {},
     "output_type": "execute_result"
    }
   ],
   "source": [
    "L[L>0]"
   ]
  },
  {
   "cell_type": "code",
   "execution_count": 54,
   "metadata": {
    "scrolled": true
   },
   "outputs": [
    {
     "data": {
      "text/plain": [
       "array([ True, False,  True, False, False, False, False, False])"
      ]
     },
     "execution_count": 54,
     "metadata": {},
     "output_type": "execute_result"
    }
   ],
   "source": [
    "(L>0) & (L<10)"
   ]
  },
  {
   "cell_type": "code",
   "execution_count": 55,
   "metadata": {
    "scrolled": true
   },
   "outputs": [
    {
     "data": {
      "text/plain": [
       "array([3, 6])"
      ]
     },
     "execution_count": 55,
     "metadata": {},
     "output_type": "execute_result"
    }
   ],
   "source": [
    "L[(L>0) & (L<10)]"
   ]
  },
  {
   "cell_type": "code",
   "execution_count": 60,
   "metadata": {},
   "outputs": [
    {
     "data": {
      "text/plain": [
       "[<matplotlib.lines.Line2D at 0x19829ffc710>,\n",
       " <matplotlib.lines.Line2D at 0x1982a028668>,\n",
       " <matplotlib.lines.Line2D at 0x1982a028780>,\n",
       " <matplotlib.lines.Line2D at 0x1982a0288d0>,\n",
       " <matplotlib.lines.Line2D at 0x1982a028a20>,\n",
       " <matplotlib.lines.Line2D at 0x1982a028b70>,\n",
       " <matplotlib.lines.Line2D at 0x1982a028cc0>,\n",
       " <matplotlib.lines.Line2D at 0x1982a028e10>,\n",
       " <matplotlib.lines.Line2D at 0x1982a028f60>,\n",
       " <matplotlib.lines.Line2D at 0x19829ff0d68>,\n",
       " <matplotlib.lines.Line2D at 0x1982a032240>,\n",
       " <matplotlib.lines.Line2D at 0x1982a032390>,\n",
       " <matplotlib.lines.Line2D at 0x1982a0324e0>,\n",
       " <matplotlib.lines.Line2D at 0x1982a032630>,\n",
       " <matplotlib.lines.Line2D at 0x1982a032780>,\n",
       " <matplotlib.lines.Line2D at 0x1982a0328d0>,\n",
       " <matplotlib.lines.Line2D at 0x1982a032a20>,\n",
       " <matplotlib.lines.Line2D at 0x1982a032b70>,\n",
       " <matplotlib.lines.Line2D at 0x1982a032cc0>,\n",
       " <matplotlib.lines.Line2D at 0x1982a032e10>,\n",
       " <matplotlib.lines.Line2D at 0x1982a032f60>,\n",
       " <matplotlib.lines.Line2D at 0x1982a0370f0>,\n",
       " <matplotlib.lines.Line2D at 0x1982a037240>,\n",
       " <matplotlib.lines.Line2D at 0x1982a037390>,\n",
       " <matplotlib.lines.Line2D at 0x1982a0374e0>,\n",
       " <matplotlib.lines.Line2D at 0x1982a037630>,\n",
       " <matplotlib.lines.Line2D at 0x1982a037780>,\n",
       " <matplotlib.lines.Line2D at 0x1982a0378d0>,\n",
       " <matplotlib.lines.Line2D at 0x1982a037a20>,\n",
       " <matplotlib.lines.Line2D at 0x1982a037b70>,\n",
       " <matplotlib.lines.Line2D at 0x1982a037cc0>,\n",
       " <matplotlib.lines.Line2D at 0x1982a037e10>,\n",
       " <matplotlib.lines.Line2D at 0x1982a037f60>,\n",
       " <matplotlib.lines.Line2D at 0x1982a03b0f0>,\n",
       " <matplotlib.lines.Line2D at 0x1982a03b240>,\n",
       " <matplotlib.lines.Line2D at 0x1982a03b390>,\n",
       " <matplotlib.lines.Line2D at 0x1982a03b4e0>,\n",
       " <matplotlib.lines.Line2D at 0x1982a03b630>,\n",
       " <matplotlib.lines.Line2D at 0x1982a03b780>,\n",
       " <matplotlib.lines.Line2D at 0x1982a03b8d0>,\n",
       " <matplotlib.lines.Line2D at 0x1982a03ba20>,\n",
       " <matplotlib.lines.Line2D at 0x1982a03bb70>,\n",
       " <matplotlib.lines.Line2D at 0x1982a03bcc0>,\n",
       " <matplotlib.lines.Line2D at 0x1982a03be10>,\n",
       " <matplotlib.lines.Line2D at 0x1982a03bf60>,\n",
       " <matplotlib.lines.Line2D at 0x1982a0410f0>,\n",
       " <matplotlib.lines.Line2D at 0x1982a041240>,\n",
       " <matplotlib.lines.Line2D at 0x1982a041390>,\n",
       " <matplotlib.lines.Line2D at 0x1982a0414e0>,\n",
       " <matplotlib.lines.Line2D at 0x1982a041630>,\n",
       " <matplotlib.lines.Line2D at 0x1982a041780>,\n",
       " <matplotlib.lines.Line2D at 0x1982a0418d0>,\n",
       " <matplotlib.lines.Line2D at 0x1982a041a20>,\n",
       " <matplotlib.lines.Line2D at 0x1982a041b70>,\n",
       " <matplotlib.lines.Line2D at 0x1982a041cc0>,\n",
       " <matplotlib.lines.Line2D at 0x1982a041e10>,\n",
       " <matplotlib.lines.Line2D at 0x1982a041f60>,\n",
       " <matplotlib.lines.Line2D at 0x1982a0470f0>,\n",
       " <matplotlib.lines.Line2D at 0x1982a047240>,\n",
       " <matplotlib.lines.Line2D at 0x1982a047390>,\n",
       " <matplotlib.lines.Line2D at 0x1982a0474e0>,\n",
       " <matplotlib.lines.Line2D at 0x1982a047630>,\n",
       " <matplotlib.lines.Line2D at 0x1982a047780>,\n",
       " <matplotlib.lines.Line2D at 0x1982a0478d0>,\n",
       " <matplotlib.lines.Line2D at 0x1982a047a20>,\n",
       " <matplotlib.lines.Line2D at 0x1982a047b70>,\n",
       " <matplotlib.lines.Line2D at 0x1982a047cc0>,\n",
       " <matplotlib.lines.Line2D at 0x1982a047e10>,\n",
       " <matplotlib.lines.Line2D at 0x1982a047f60>,\n",
       " <matplotlib.lines.Line2D at 0x1982a04a0f0>,\n",
       " <matplotlib.lines.Line2D at 0x1982a04a240>,\n",
       " <matplotlib.lines.Line2D at 0x1982a04a390>,\n",
       " <matplotlib.lines.Line2D at 0x1982a04a4e0>,\n",
       " <matplotlib.lines.Line2D at 0x1982a04a630>,\n",
       " <matplotlib.lines.Line2D at 0x1982a04a780>,\n",
       " <matplotlib.lines.Line2D at 0x1982a04a8d0>,\n",
       " <matplotlib.lines.Line2D at 0x1982a04aa20>,\n",
       " <matplotlib.lines.Line2D at 0x1982a04ab70>,\n",
       " <matplotlib.lines.Line2D at 0x1982a04acc0>,\n",
       " <matplotlib.lines.Line2D at 0x1982a04ae10>,\n",
       " <matplotlib.lines.Line2D at 0x1982a04af60>,\n",
       " <matplotlib.lines.Line2D at 0x1982a0500f0>,\n",
       " <matplotlib.lines.Line2D at 0x1982a050240>,\n",
       " <matplotlib.lines.Line2D at 0x1982a050390>,\n",
       " <matplotlib.lines.Line2D at 0x1982a0504e0>,\n",
       " <matplotlib.lines.Line2D at 0x1982a050630>,\n",
       " <matplotlib.lines.Line2D at 0x1982a050780>,\n",
       " <matplotlib.lines.Line2D at 0x1982a0508d0>,\n",
       " <matplotlib.lines.Line2D at 0x1982a050a20>,\n",
       " <matplotlib.lines.Line2D at 0x1982a050b70>,\n",
       " <matplotlib.lines.Line2D at 0x1982a050cc0>,\n",
       " <matplotlib.lines.Line2D at 0x1982a050e10>,\n",
       " <matplotlib.lines.Line2D at 0x1982a050f60>,\n",
       " <matplotlib.lines.Line2D at 0x1982a0560f0>,\n",
       " <matplotlib.lines.Line2D at 0x1982a056240>,\n",
       " <matplotlib.lines.Line2D at 0x1982a056390>,\n",
       " <matplotlib.lines.Line2D at 0x1982a0564e0>,\n",
       " <matplotlib.lines.Line2D at 0x1982a056630>,\n",
       " <matplotlib.lines.Line2D at 0x1982a056780>,\n",
       " <matplotlib.lines.Line2D at 0x1982a0568d0>,\n",
       " <matplotlib.lines.Line2D at 0x1982a056a20>,\n",
       " <matplotlib.lines.Line2D at 0x1982a056b70>,\n",
       " <matplotlib.lines.Line2D at 0x1982a056cc0>,\n",
       " <matplotlib.lines.Line2D at 0x1982a056e10>,\n",
       " <matplotlib.lines.Line2D at 0x1982a056f60>,\n",
       " <matplotlib.lines.Line2D at 0x1982a05c0f0>,\n",
       " <matplotlib.lines.Line2D at 0x1982a05c240>,\n",
       " <matplotlib.lines.Line2D at 0x1982a05c390>,\n",
       " <matplotlib.lines.Line2D at 0x1982a05c4e0>,\n",
       " <matplotlib.lines.Line2D at 0x1982a05c630>,\n",
       " <matplotlib.lines.Line2D at 0x1982a05c780>,\n",
       " <matplotlib.lines.Line2D at 0x1982a05c8d0>,\n",
       " <matplotlib.lines.Line2D at 0x1982a05ca20>,\n",
       " <matplotlib.lines.Line2D at 0x1982a05cb70>,\n",
       " <matplotlib.lines.Line2D at 0x1982a05ccc0>,\n",
       " <matplotlib.lines.Line2D at 0x1982a05ce10>,\n",
       " <matplotlib.lines.Line2D at 0x1982a05cf60>,\n",
       " <matplotlib.lines.Line2D at 0x1982a0600f0>,\n",
       " <matplotlib.lines.Line2D at 0x1982a060240>,\n",
       " <matplotlib.lines.Line2D at 0x1982a060390>,\n",
       " <matplotlib.lines.Line2D at 0x1982a0604e0>,\n",
       " <matplotlib.lines.Line2D at 0x1982a060630>,\n",
       " <matplotlib.lines.Line2D at 0x1982a060780>,\n",
       " <matplotlib.lines.Line2D at 0x1982a0608d0>,\n",
       " <matplotlib.lines.Line2D at 0x1982a060a20>,\n",
       " <matplotlib.lines.Line2D at 0x1982a060b70>,\n",
       " <matplotlib.lines.Line2D at 0x1982a060cc0>,\n",
       " <matplotlib.lines.Line2D at 0x1982a060e10>,\n",
       " <matplotlib.lines.Line2D at 0x1982a060f60>,\n",
       " <matplotlib.lines.Line2D at 0x1982a0650f0>,\n",
       " <matplotlib.lines.Line2D at 0x1982a065240>,\n",
       " <matplotlib.lines.Line2D at 0x1982a065390>,\n",
       " <matplotlib.lines.Line2D at 0x1982a0654e0>,\n",
       " <matplotlib.lines.Line2D at 0x1982a065630>,\n",
       " <matplotlib.lines.Line2D at 0x1982a065780>,\n",
       " <matplotlib.lines.Line2D at 0x1982a0658d0>,\n",
       " <matplotlib.lines.Line2D at 0x1982a065a20>,\n",
       " <matplotlib.lines.Line2D at 0x1982a065b70>,\n",
       " <matplotlib.lines.Line2D at 0x1982a065cc0>,\n",
       " <matplotlib.lines.Line2D at 0x1982a065e10>,\n",
       " <matplotlib.lines.Line2D at 0x1982a065f60>,\n",
       " <matplotlib.lines.Line2D at 0x1982a06b0f0>,\n",
       " <matplotlib.lines.Line2D at 0x1982a06b240>,\n",
       " <matplotlib.lines.Line2D at 0x1982a06b390>,\n",
       " <matplotlib.lines.Line2D at 0x1982a06b4e0>,\n",
       " <matplotlib.lines.Line2D at 0x1982a06b630>,\n",
       " <matplotlib.lines.Line2D at 0x1982a06b780>,\n",
       " <matplotlib.lines.Line2D at 0x1982a06b8d0>,\n",
       " <matplotlib.lines.Line2D at 0x1982a06ba20>,\n",
       " <matplotlib.lines.Line2D at 0x1982a06bb70>,\n",
       " <matplotlib.lines.Line2D at 0x1982a06bcc0>,\n",
       " <matplotlib.lines.Line2D at 0x1982a06be10>,\n",
       " <matplotlib.lines.Line2D at 0x1982a06bf60>,\n",
       " <matplotlib.lines.Line2D at 0x1982a0700f0>,\n",
       " <matplotlib.lines.Line2D at 0x1982a070240>,\n",
       " <matplotlib.lines.Line2D at 0x1982a070390>,\n",
       " <matplotlib.lines.Line2D at 0x1982a0704e0>,\n",
       " <matplotlib.lines.Line2D at 0x1982a070630>,\n",
       " <matplotlib.lines.Line2D at 0x1982a070780>,\n",
       " <matplotlib.lines.Line2D at 0x1982a0708d0>,\n",
       " <matplotlib.lines.Line2D at 0x1982a070a20>,\n",
       " <matplotlib.lines.Line2D at 0x1982a070b70>,\n",
       " <matplotlib.lines.Line2D at 0x1982a070cc0>,\n",
       " <matplotlib.lines.Line2D at 0x1982a070e10>,\n",
       " <matplotlib.lines.Line2D at 0x1982a070f60>,\n",
       " <matplotlib.lines.Line2D at 0x1982a0750f0>,\n",
       " <matplotlib.lines.Line2D at 0x1982a075240>,\n",
       " <matplotlib.lines.Line2D at 0x1982a075390>,\n",
       " <matplotlib.lines.Line2D at 0x1982a0754e0>,\n",
       " <matplotlib.lines.Line2D at 0x1982a075630>,\n",
       " <matplotlib.lines.Line2D at 0x1982a075780>,\n",
       " <matplotlib.lines.Line2D at 0x1982a0758d0>,\n",
       " <matplotlib.lines.Line2D at 0x1982a075a20>,\n",
       " <matplotlib.lines.Line2D at 0x1982a075b70>,\n",
       " <matplotlib.lines.Line2D at 0x1982a075cc0>,\n",
       " <matplotlib.lines.Line2D at 0x1982a075e10>,\n",
       " <matplotlib.lines.Line2D at 0x1982a075f60>,\n",
       " <matplotlib.lines.Line2D at 0x1982a07b0f0>,\n",
       " <matplotlib.lines.Line2D at 0x1982a07b240>,\n",
       " <matplotlib.lines.Line2D at 0x1982a07b390>,\n",
       " <matplotlib.lines.Line2D at 0x1982a07b4e0>,\n",
       " <matplotlib.lines.Line2D at 0x1982a07b630>,\n",
       " <matplotlib.lines.Line2D at 0x1982a07b780>,\n",
       " <matplotlib.lines.Line2D at 0x1982a07b8d0>,\n",
       " <matplotlib.lines.Line2D at 0x1982a07ba20>,\n",
       " <matplotlib.lines.Line2D at 0x1982a07bb70>,\n",
       " <matplotlib.lines.Line2D at 0x1982a07bcc0>,\n",
       " <matplotlib.lines.Line2D at 0x1982a07be10>,\n",
       " <matplotlib.lines.Line2D at 0x1982a07bf60>,\n",
       " <matplotlib.lines.Line2D at 0x1982a0800f0>,\n",
       " <matplotlib.lines.Line2D at 0x1982a080240>,\n",
       " <matplotlib.lines.Line2D at 0x1982a080390>,\n",
       " <matplotlib.lines.Line2D at 0x1982a0804e0>,\n",
       " <matplotlib.lines.Line2D at 0x1982a080630>,\n",
       " <matplotlib.lines.Line2D at 0x1982a080780>,\n",
       " <matplotlib.lines.Line2D at 0x1982a0808d0>,\n",
       " <matplotlib.lines.Line2D at 0x1982a080a20>,\n",
       " <matplotlib.lines.Line2D at 0x1982a080b70>,\n",
       " <matplotlib.lines.Line2D at 0x1982a080cc0>,\n",
       " <matplotlib.lines.Line2D at 0x1982a080e10>,\n",
       " <matplotlib.lines.Line2D at 0x1982a080f60>,\n",
       " <matplotlib.lines.Line2D at 0x1982a0850f0>,\n",
       " <matplotlib.lines.Line2D at 0x1982a085240>,\n",
       " <matplotlib.lines.Line2D at 0x1982a085390>,\n",
       " <matplotlib.lines.Line2D at 0x1982a0854e0>,\n",
       " <matplotlib.lines.Line2D at 0x1982a085630>,\n",
       " <matplotlib.lines.Line2D at 0x1982a085780>,\n",
       " <matplotlib.lines.Line2D at 0x1982a0858d0>,\n",
       " <matplotlib.lines.Line2D at 0x1982a085a20>,\n",
       " <matplotlib.lines.Line2D at 0x1982a085b70>,\n",
       " <matplotlib.lines.Line2D at 0x1982a085cc0>,\n",
       " <matplotlib.lines.Line2D at 0x1982a085e10>,\n",
       " <matplotlib.lines.Line2D at 0x1982a085f60>,\n",
       " <matplotlib.lines.Line2D at 0x1982a08a0f0>,\n",
       " <matplotlib.lines.Line2D at 0x1982a08a240>,\n",
       " <matplotlib.lines.Line2D at 0x1982a08a390>,\n",
       " <matplotlib.lines.Line2D at 0x1982a08a4e0>,\n",
       " <matplotlib.lines.Line2D at 0x1982a08a630>,\n",
       " <matplotlib.lines.Line2D at 0x1982a08a780>,\n",
       " <matplotlib.lines.Line2D at 0x1982a08a8d0>,\n",
       " <matplotlib.lines.Line2D at 0x1982a08aa20>,\n",
       " <matplotlib.lines.Line2D at 0x1982a08ab70>,\n",
       " <matplotlib.lines.Line2D at 0x1982a08acc0>,\n",
       " <matplotlib.lines.Line2D at 0x1982a08ae10>,\n",
       " <matplotlib.lines.Line2D at 0x1982a08af60>,\n",
       " <matplotlib.lines.Line2D at 0x1982a0900f0>,\n",
       " <matplotlib.lines.Line2D at 0x1982a090240>,\n",
       " <matplotlib.lines.Line2D at 0x1982a090390>,\n",
       " <matplotlib.lines.Line2D at 0x1982a0904e0>,\n",
       " <matplotlib.lines.Line2D at 0x1982a090630>,\n",
       " <matplotlib.lines.Line2D at 0x1982a090780>,\n",
       " <matplotlib.lines.Line2D at 0x1982a0908d0>,\n",
       " <matplotlib.lines.Line2D at 0x1982a090a20>,\n",
       " <matplotlib.lines.Line2D at 0x1982a090b70>,\n",
       " <matplotlib.lines.Line2D at 0x1982a090cc0>,\n",
       " <matplotlib.lines.Line2D at 0x1982a090e10>,\n",
       " <matplotlib.lines.Line2D at 0x1982a090f60>,\n",
       " <matplotlib.lines.Line2D at 0x1982a0950f0>,\n",
       " <matplotlib.lines.Line2D at 0x1982a095240>,\n",
       " <matplotlib.lines.Line2D at 0x1982a095390>,\n",
       " <matplotlib.lines.Line2D at 0x1982a0954e0>,\n",
       " <matplotlib.lines.Line2D at 0x1982a095630>,\n",
       " <matplotlib.lines.Line2D at 0x1982a095780>,\n",
       " <matplotlib.lines.Line2D at 0x1982a0958d0>,\n",
       " <matplotlib.lines.Line2D at 0x1982a095a20>,\n",
       " <matplotlib.lines.Line2D at 0x1982a095b70>,\n",
       " <matplotlib.lines.Line2D at 0x1982a095cc0>,\n",
       " <matplotlib.lines.Line2D at 0x1982a095e10>,\n",
       " <matplotlib.lines.Line2D at 0x1982a095f60>,\n",
       " <matplotlib.lines.Line2D at 0x1982a09a0f0>,\n",
       " <matplotlib.lines.Line2D at 0x1982a09a240>,\n",
       " <matplotlib.lines.Line2D at 0x1982a09a390>,\n",
       " <matplotlib.lines.Line2D at 0x1982a09a4e0>,\n",
       " <matplotlib.lines.Line2D at 0x1982a09a630>,\n",
       " <matplotlib.lines.Line2D at 0x1982a09a780>,\n",
       " <matplotlib.lines.Line2D at 0x1982a09a8d0>,\n",
       " <matplotlib.lines.Line2D at 0x1982a09aa20>,\n",
       " <matplotlib.lines.Line2D at 0x1982a09ab70>,\n",
       " <matplotlib.lines.Line2D at 0x1982a09acc0>,\n",
       " <matplotlib.lines.Line2D at 0x1982a09ae10>,\n",
       " <matplotlib.lines.Line2D at 0x1982a09af60>,\n",
       " <matplotlib.lines.Line2D at 0x1982a0a00f0>,\n",
       " <matplotlib.lines.Line2D at 0x1982a0a0240>,\n",
       " <matplotlib.lines.Line2D at 0x1982a0a0390>,\n",
       " <matplotlib.lines.Line2D at 0x1982a0a04e0>,\n",
       " <matplotlib.lines.Line2D at 0x1982a0a0630>,\n",
       " <matplotlib.lines.Line2D at 0x1982a0a0780>,\n",
       " <matplotlib.lines.Line2D at 0x1982a0a08d0>,\n",
       " <matplotlib.lines.Line2D at 0x1982a0a0a20>,\n",
       " <matplotlib.lines.Line2D at 0x1982a0a0b70>,\n",
       " <matplotlib.lines.Line2D at 0x1982a0a0cc0>,\n",
       " <matplotlib.lines.Line2D at 0x1982a0a0e10>,\n",
       " <matplotlib.lines.Line2D at 0x1982a0a0f60>,\n",
       " <matplotlib.lines.Line2D at 0x1982a0a50f0>,\n",
       " <matplotlib.lines.Line2D at 0x1982a0a5240>,\n",
       " <matplotlib.lines.Line2D at 0x1982a0a5390>,\n",
       " <matplotlib.lines.Line2D at 0x1982a0a54e0>,\n",
       " <matplotlib.lines.Line2D at 0x1982a0a5630>,\n",
       " <matplotlib.lines.Line2D at 0x1982a0a5780>,\n",
       " <matplotlib.lines.Line2D at 0x1982a0a58d0>,\n",
       " <matplotlib.lines.Line2D at 0x1982a0a5a20>,\n",
       " <matplotlib.lines.Line2D at 0x1982a0a5b70>,\n",
       " <matplotlib.lines.Line2D at 0x1982a0a5cc0>,\n",
       " <matplotlib.lines.Line2D at 0x1982a0a5e10>,\n",
       " <matplotlib.lines.Line2D at 0x1982a0a5f60>,\n",
       " <matplotlib.lines.Line2D at 0x1982a0a90f0>,\n",
       " <matplotlib.lines.Line2D at 0x1982a0a9240>,\n",
       " <matplotlib.lines.Line2D at 0x1982a0a9390>,\n",
       " <matplotlib.lines.Line2D at 0x1982a0a94e0>,\n",
       " <matplotlib.lines.Line2D at 0x1982a0a9630>,\n",
       " <matplotlib.lines.Line2D at 0x1982a0a9780>,\n",
       " <matplotlib.lines.Line2D at 0x1982a0a98d0>,\n",
       " <matplotlib.lines.Line2D at 0x1982a0a9a20>,\n",
       " <matplotlib.lines.Line2D at 0x1982a0a9b70>,\n",
       " <matplotlib.lines.Line2D at 0x1982a0a9cc0>,\n",
       " <matplotlib.lines.Line2D at 0x1982a0a9e10>,\n",
       " <matplotlib.lines.Line2D at 0x1982a0a9f60>,\n",
       " <matplotlib.lines.Line2D at 0x1982a0af0f0>,\n",
       " <matplotlib.lines.Line2D at 0x1982a0af240>,\n",
       " <matplotlib.lines.Line2D at 0x1982a0af390>,\n",
       " <matplotlib.lines.Line2D at 0x1982a0af4e0>,\n",
       " <matplotlib.lines.Line2D at 0x1982a0af630>,\n",
       " <matplotlib.lines.Line2D at 0x1982a0af780>,\n",
       " <matplotlib.lines.Line2D at 0x1982a0af8d0>,\n",
       " <matplotlib.lines.Line2D at 0x1982a0afa20>,\n",
       " <matplotlib.lines.Line2D at 0x1982a0afb70>,\n",
       " <matplotlib.lines.Line2D at 0x1982a0afcc0>,\n",
       " <matplotlib.lines.Line2D at 0x1982a0afe10>,\n",
       " <matplotlib.lines.Line2D at 0x1982a0aff60>,\n",
       " <matplotlib.lines.Line2D at 0x1982a0b50f0>,\n",
       " <matplotlib.lines.Line2D at 0x1982a0b5240>,\n",
       " <matplotlib.lines.Line2D at 0x1982a0b5390>,\n",
       " <matplotlib.lines.Line2D at 0x1982a0b54e0>,\n",
       " <matplotlib.lines.Line2D at 0x1982a0b5630>,\n",
       " <matplotlib.lines.Line2D at 0x1982a0b5780>,\n",
       " <matplotlib.lines.Line2D at 0x1982a0b58d0>,\n",
       " <matplotlib.lines.Line2D at 0x1982a0b5a20>,\n",
       " <matplotlib.lines.Line2D at 0x1982a0b5b70>,\n",
       " <matplotlib.lines.Line2D at 0x1982a0b5cc0>,\n",
       " <matplotlib.lines.Line2D at 0x1982a0b5e10>,\n",
       " <matplotlib.lines.Line2D at 0x1982a0b5f60>,\n",
       " <matplotlib.lines.Line2D at 0x1982a0ba0f0>,\n",
       " <matplotlib.lines.Line2D at 0x1982a0ba240>,\n",
       " <matplotlib.lines.Line2D at 0x1982a0ba390>,\n",
       " <matplotlib.lines.Line2D at 0x1982a0ba4e0>,\n",
       " <matplotlib.lines.Line2D at 0x1982a0ba630>,\n",
       " <matplotlib.lines.Line2D at 0x1982a0ba780>,\n",
       " <matplotlib.lines.Line2D at 0x1982a0ba8d0>,\n",
       " <matplotlib.lines.Line2D at 0x1982a0baa20>,\n",
       " <matplotlib.lines.Line2D at 0x1982a0bab70>,\n",
       " <matplotlib.lines.Line2D at 0x1982a0bacc0>,\n",
       " <matplotlib.lines.Line2D at 0x1982a0bae10>,\n",
       " <matplotlib.lines.Line2D at 0x1982a0baf60>,\n",
       " <matplotlib.lines.Line2D at 0x1982a0be0f0>,\n",
       " <matplotlib.lines.Line2D at 0x1982a0be240>,\n",
       " <matplotlib.lines.Line2D at 0x1982a0be390>,\n",
       " <matplotlib.lines.Line2D at 0x1982a0be4e0>,\n",
       " <matplotlib.lines.Line2D at 0x1982a0be630>,\n",
       " <matplotlib.lines.Line2D at 0x1982a0be780>,\n",
       " <matplotlib.lines.Line2D at 0x1982a0be8d0>,\n",
       " <matplotlib.lines.Line2D at 0x1982a0bea20>,\n",
       " <matplotlib.lines.Line2D at 0x1982a0beb70>,\n",
       " <matplotlib.lines.Line2D at 0x1982a0becc0>,\n",
       " <matplotlib.lines.Line2D at 0x1982a0bee10>,\n",
       " <matplotlib.lines.Line2D at 0x1982a0bef60>,\n",
       " <matplotlib.lines.Line2D at 0x1982a0c50f0>,\n",
       " <matplotlib.lines.Line2D at 0x1982a0c5240>,\n",
       " <matplotlib.lines.Line2D at 0x1982a0c5390>,\n",
       " <matplotlib.lines.Line2D at 0x1982a0c54e0>,\n",
       " <matplotlib.lines.Line2D at 0x1982a0c5630>,\n",
       " <matplotlib.lines.Line2D at 0x1982a0c5780>,\n",
       " <matplotlib.lines.Line2D at 0x1982a0c58d0>,\n",
       " <matplotlib.lines.Line2D at 0x1982a0c5a20>,\n",
       " <matplotlib.lines.Line2D at 0x1982a0c5b70>,\n",
       " <matplotlib.lines.Line2D at 0x1982a0c5cc0>,\n",
       " <matplotlib.lines.Line2D at 0x1982a0c5e10>,\n",
       " <matplotlib.lines.Line2D at 0x1982a0c5f60>,\n",
       " <matplotlib.lines.Line2D at 0x1982a0ca0f0>,\n",
       " <matplotlib.lines.Line2D at 0x1982a0ca240>,\n",
       " <matplotlib.lines.Line2D at 0x1982a0ca390>,\n",
       " <matplotlib.lines.Line2D at 0x1982a0ca4e0>,\n",
       " <matplotlib.lines.Line2D at 0x1982a0ca630>,\n",
       " <matplotlib.lines.Line2D at 0x1982a0ca780>,\n",
       " <matplotlib.lines.Line2D at 0x1982a0ca8d0>,\n",
       " <matplotlib.lines.Line2D at 0x1982a0caa20>,\n",
       " <matplotlib.lines.Line2D at 0x1982a0cab70>,\n",
       " <matplotlib.lines.Line2D at 0x1982a0cacc0>,\n",
       " <matplotlib.lines.Line2D at 0x1982a0cae10>,\n",
       " <matplotlib.lines.Line2D at 0x1982a0caf60>,\n",
       " <matplotlib.lines.Line2D at 0x1982a0cf0f0>,\n",
       " <matplotlib.lines.Line2D at 0x1982a0cf240>,\n",
       " <matplotlib.lines.Line2D at 0x1982a0cf390>,\n",
       " <matplotlib.lines.Line2D at 0x1982a0cf4e0>,\n",
       " <matplotlib.lines.Line2D at 0x1982a0cf630>,\n",
       " <matplotlib.lines.Line2D at 0x1982a0cf780>,\n",
       " <matplotlib.lines.Line2D at 0x1982a0cf8d0>,\n",
       " <matplotlib.lines.Line2D at 0x1982a0cfa20>,\n",
       " <matplotlib.lines.Line2D at 0x1982a0cfb70>,\n",
       " <matplotlib.lines.Line2D at 0x1982a0cfcc0>,\n",
       " <matplotlib.lines.Line2D at 0x1982a0cfe10>,\n",
       " <matplotlib.lines.Line2D at 0x1982a0cff60>,\n",
       " <matplotlib.lines.Line2D at 0x1982a0d30f0>,\n",
       " <matplotlib.lines.Line2D at 0x1982a0d3240>,\n",
       " <matplotlib.lines.Line2D at 0x1982a0d3390>,\n",
       " <matplotlib.lines.Line2D at 0x1982a0d34e0>,\n",
       " <matplotlib.lines.Line2D at 0x1982a0d3630>,\n",
       " <matplotlib.lines.Line2D at 0x1982a0d3780>,\n",
       " <matplotlib.lines.Line2D at 0x1982a0d38d0>,\n",
       " <matplotlib.lines.Line2D at 0x1982a0d3a20>,\n",
       " <matplotlib.lines.Line2D at 0x1982a0d3b70>,\n",
       " <matplotlib.lines.Line2D at 0x1982a0d3cc0>,\n",
       " <matplotlib.lines.Line2D at 0x1982a0d3e10>,\n",
       " <matplotlib.lines.Line2D at 0x1982a0d3f60>,\n",
       " <matplotlib.lines.Line2D at 0x1982a0da0f0>,\n",
       " <matplotlib.lines.Line2D at 0x1982a0da240>,\n",
       " <matplotlib.lines.Line2D at 0x1982a0da390>,\n",
       " <matplotlib.lines.Line2D at 0x1982a0da4e0>,\n",
       " <matplotlib.lines.Line2D at 0x1982a0da630>,\n",
       " <matplotlib.lines.Line2D at 0x1982a0da780>,\n",
       " <matplotlib.lines.Line2D at 0x1982a0da8d0>,\n",
       " <matplotlib.lines.Line2D at 0x1982a0daa20>,\n",
       " <matplotlib.lines.Line2D at 0x1982a0dab70>,\n",
       " <matplotlib.lines.Line2D at 0x1982a0dacc0>,\n",
       " <matplotlib.lines.Line2D at 0x1982a0dae10>,\n",
       " <matplotlib.lines.Line2D at 0x1982a0daf60>,\n",
       " <matplotlib.lines.Line2D at 0x1982a0df0f0>,\n",
       " <matplotlib.lines.Line2D at 0x1982a0df240>,\n",
       " <matplotlib.lines.Line2D at 0x1982a0df390>,\n",
       " <matplotlib.lines.Line2D at 0x1982a0df4e0>,\n",
       " <matplotlib.lines.Line2D at 0x1982a0df630>,\n",
       " <matplotlib.lines.Line2D at 0x1982a0df780>,\n",
       " <matplotlib.lines.Line2D at 0x1982a0df8d0>,\n",
       " <matplotlib.lines.Line2D at 0x1982a0dfa20>,\n",
       " <matplotlib.lines.Line2D at 0x1982a0dfb70>,\n",
       " <matplotlib.lines.Line2D at 0x1982a0dfcc0>,\n",
       " <matplotlib.lines.Line2D at 0x1982a0dfe10>,\n",
       " <matplotlib.lines.Line2D at 0x1982a0dff60>,\n",
       " <matplotlib.lines.Line2D at 0x1982a0e40f0>,\n",
       " <matplotlib.lines.Line2D at 0x1982a0e4240>,\n",
       " <matplotlib.lines.Line2D at 0x1982a0e4390>,\n",
       " <matplotlib.lines.Line2D at 0x1982a0e44e0>,\n",
       " <matplotlib.lines.Line2D at 0x1982a0e4630>,\n",
       " <matplotlib.lines.Line2D at 0x1982a0e4780>,\n",
       " <matplotlib.lines.Line2D at 0x1982a0e48d0>,\n",
       " <matplotlib.lines.Line2D at 0x1982a0e4a20>,\n",
       " <matplotlib.lines.Line2D at 0x1982a0e4b70>,\n",
       " <matplotlib.lines.Line2D at 0x1982a0e4cc0>,\n",
       " <matplotlib.lines.Line2D at 0x1982a0e4e10>,\n",
       " <matplotlib.lines.Line2D at 0x1982a0e4f60>,\n",
       " <matplotlib.lines.Line2D at 0x1982a0e90f0>,\n",
       " <matplotlib.lines.Line2D at 0x1982a0e9240>,\n",
       " <matplotlib.lines.Line2D at 0x1982a0e9390>,\n",
       " <matplotlib.lines.Line2D at 0x1982a0e94e0>,\n",
       " <matplotlib.lines.Line2D at 0x1982a0e9630>,\n",
       " <matplotlib.lines.Line2D at 0x1982a0e9780>,\n",
       " <matplotlib.lines.Line2D at 0x1982a0e98d0>,\n",
       " <matplotlib.lines.Line2D at 0x1982a0e9a20>,\n",
       " <matplotlib.lines.Line2D at 0x1982a0e9b70>,\n",
       " <matplotlib.lines.Line2D at 0x1982a0e9cc0>,\n",
       " <matplotlib.lines.Line2D at 0x1982a0e9e10>,\n",
       " <matplotlib.lines.Line2D at 0x1982a0e9f60>,\n",
       " <matplotlib.lines.Line2D at 0x1982a0ef0f0>,\n",
       " <matplotlib.lines.Line2D at 0x1982a0ef240>,\n",
       " <matplotlib.lines.Line2D at 0x1982a0ef390>,\n",
       " <matplotlib.lines.Line2D at 0x1982a0ef4e0>,\n",
       " <matplotlib.lines.Line2D at 0x1982a0ef630>,\n",
       " <matplotlib.lines.Line2D at 0x1982a0ef780>,\n",
       " <matplotlib.lines.Line2D at 0x1982a0ef8d0>,\n",
       " <matplotlib.lines.Line2D at 0x1982a0efa20>,\n",
       " <matplotlib.lines.Line2D at 0x1982a0efb70>,\n",
       " <matplotlib.lines.Line2D at 0x1982a0efcc0>,\n",
       " <matplotlib.lines.Line2D at 0x1982a0efe10>,\n",
       " <matplotlib.lines.Line2D at 0x1982a0eff60>,\n",
       " <matplotlib.lines.Line2D at 0x1982a0f30f0>,\n",
       " <matplotlib.lines.Line2D at 0x1982a0f3240>,\n",
       " <matplotlib.lines.Line2D at 0x1982a0f3390>,\n",
       " <matplotlib.lines.Line2D at 0x1982a0f34e0>,\n",
       " <matplotlib.lines.Line2D at 0x1982a0f3630>,\n",
       " <matplotlib.lines.Line2D at 0x1982a0f3780>,\n",
       " <matplotlib.lines.Line2D at 0x1982a0f38d0>,\n",
       " <matplotlib.lines.Line2D at 0x1982a0f3a20>,\n",
       " <matplotlib.lines.Line2D at 0x1982a0f3b70>,\n",
       " <matplotlib.lines.Line2D at 0x1982a0f3cc0>,\n",
       " <matplotlib.lines.Line2D at 0x1982a0f3e10>,\n",
       " <matplotlib.lines.Line2D at 0x1982a0f3f60>,\n",
       " <matplotlib.lines.Line2D at 0x1982a0f90f0>,\n",
       " <matplotlib.lines.Line2D at 0x1982a0f9240>,\n",
       " <matplotlib.lines.Line2D at 0x1982a0f9390>,\n",
       " <matplotlib.lines.Line2D at 0x1982a0f94e0>,\n",
       " <matplotlib.lines.Line2D at 0x1982a0f9630>,\n",
       " <matplotlib.lines.Line2D at 0x1982a0f9780>,\n",
       " <matplotlib.lines.Line2D at 0x1982a0f98d0>,\n",
       " <matplotlib.lines.Line2D at 0x1982a0f9a20>,\n",
       " <matplotlib.lines.Line2D at 0x1982a0f9b70>,\n",
       " <matplotlib.lines.Line2D at 0x1982a0f9cc0>,\n",
       " <matplotlib.lines.Line2D at 0x1982a0f9e10>,\n",
       " <matplotlib.lines.Line2D at 0x1982a0f9f60>,\n",
       " <matplotlib.lines.Line2D at 0x1982a0fe0f0>,\n",
       " <matplotlib.lines.Line2D at 0x1982a0fe240>,\n",
       " <matplotlib.lines.Line2D at 0x1982a0fe390>,\n",
       " <matplotlib.lines.Line2D at 0x1982a0fe4e0>,\n",
       " <matplotlib.lines.Line2D at 0x1982a0fe630>,\n",
       " <matplotlib.lines.Line2D at 0x1982a0fe780>,\n",
       " <matplotlib.lines.Line2D at 0x1982a0fe8d0>,\n",
       " <matplotlib.lines.Line2D at 0x1982a0fea20>,\n",
       " <matplotlib.lines.Line2D at 0x1982a0feb70>,\n",
       " <matplotlib.lines.Line2D at 0x1982a0fecc0>,\n",
       " <matplotlib.lines.Line2D at 0x1982a0fee10>,\n",
       " <matplotlib.lines.Line2D at 0x1982a0fef60>,\n",
       " <matplotlib.lines.Line2D at 0x1982a1040f0>,\n",
       " <matplotlib.lines.Line2D at 0x1982a104240>,\n",
       " <matplotlib.lines.Line2D at 0x1982a104390>,\n",
       " <matplotlib.lines.Line2D at 0x1982a1044e0>,\n",
       " <matplotlib.lines.Line2D at 0x1982a104630>,\n",
       " <matplotlib.lines.Line2D at 0x1982a104780>,\n",
       " <matplotlib.lines.Line2D at 0x1982a1048d0>,\n",
       " <matplotlib.lines.Line2D at 0x1982a104a20>,\n",
       " <matplotlib.lines.Line2D at 0x1982a104b70>,\n",
       " <matplotlib.lines.Line2D at 0x1982a104cc0>,\n",
       " <matplotlib.lines.Line2D at 0x1982a104e10>,\n",
       " <matplotlib.lines.Line2D at 0x1982a104f60>,\n",
       " <matplotlib.lines.Line2D at 0x1982a1090f0>,\n",
       " <matplotlib.lines.Line2D at 0x1982a109240>,\n",
       " <matplotlib.lines.Line2D at 0x1982a109390>,\n",
       " <matplotlib.lines.Line2D at 0x1982a1094e0>,\n",
       " <matplotlib.lines.Line2D at 0x1982a109630>,\n",
       " <matplotlib.lines.Line2D at 0x1982a109780>,\n",
       " <matplotlib.lines.Line2D at 0x1982a1098d0>,\n",
       " <matplotlib.lines.Line2D at 0x1982a109a20>,\n",
       " <matplotlib.lines.Line2D at 0x1982a109b70>,\n",
       " <matplotlib.lines.Line2D at 0x1982a109cc0>,\n",
       " <matplotlib.lines.Line2D at 0x1982a109e10>,\n",
       " <matplotlib.lines.Line2D at 0x1982a109f60>,\n",
       " <matplotlib.lines.Line2D at 0x1982a1100f0>,\n",
       " <matplotlib.lines.Line2D at 0x1982a110240>,\n",
       " <matplotlib.lines.Line2D at 0x1982a110390>,\n",
       " <matplotlib.lines.Line2D at 0x1982a1104e0>,\n",
       " <matplotlib.lines.Line2D at 0x1982a110630>,\n",
       " <matplotlib.lines.Line2D at 0x1982a110780>,\n",
       " <matplotlib.lines.Line2D at 0x1982a1108d0>,\n",
       " <matplotlib.lines.Line2D at 0x1982a110a20>,\n",
       " <matplotlib.lines.Line2D at 0x1982a110b70>,\n",
       " <matplotlib.lines.Line2D at 0x1982a110cc0>,\n",
       " <matplotlib.lines.Line2D at 0x1982a110e10>,\n",
       " <matplotlib.lines.Line2D at 0x1982a110f60>,\n",
       " <matplotlib.lines.Line2D at 0x1982a1140f0>,\n",
       " <matplotlib.lines.Line2D at 0x1982a114240>,\n",
       " <matplotlib.lines.Line2D at 0x1982a114390>,\n",
       " <matplotlib.lines.Line2D at 0x1982a1144e0>,\n",
       " <matplotlib.lines.Line2D at 0x1982a114630>,\n",
       " <matplotlib.lines.Line2D at 0x1982a114780>,\n",
       " <matplotlib.lines.Line2D at 0x1982a1148d0>,\n",
       " <matplotlib.lines.Line2D at 0x1982a114a20>,\n",
       " <matplotlib.lines.Line2D at 0x1982a114b70>,\n",
       " <matplotlib.lines.Line2D at 0x1982a114cc0>,\n",
       " <matplotlib.lines.Line2D at 0x1982a114e10>,\n",
       " <matplotlib.lines.Line2D at 0x1982a114f60>,\n",
       " <matplotlib.lines.Line2D at 0x1982a11a0f0>,\n",
       " <matplotlib.lines.Line2D at 0x1982a11a240>,\n",
       " <matplotlib.lines.Line2D at 0x1982a11a390>,\n",
       " <matplotlib.lines.Line2D at 0x1982a11a4e0>,\n",
       " <matplotlib.lines.Line2D at 0x1982a11a630>,\n",
       " <matplotlib.lines.Line2D at 0x1982a11a780>,\n",
       " <matplotlib.lines.Line2D at 0x1982a11a8d0>,\n",
       " <matplotlib.lines.Line2D at 0x1982a11aa20>,\n",
       " <matplotlib.lines.Line2D at 0x1982a11ab70>,\n",
       " <matplotlib.lines.Line2D at 0x1982a11acc0>,\n",
       " <matplotlib.lines.Line2D at 0x1982a11ae10>,\n",
       " <matplotlib.lines.Line2D at 0x1982a11af60>,\n",
       " <matplotlib.lines.Line2D at 0x1982a11e0f0>,\n",
       " <matplotlib.lines.Line2D at 0x1982a11e240>,\n",
       " <matplotlib.lines.Line2D at 0x1982a11e390>,\n",
       " <matplotlib.lines.Line2D at 0x1982a11e4e0>,\n",
       " <matplotlib.lines.Line2D at 0x1982a11e630>,\n",
       " <matplotlib.lines.Line2D at 0x1982a11e780>,\n",
       " <matplotlib.lines.Line2D at 0x1982a11e8d0>,\n",
       " <matplotlib.lines.Line2D at 0x1982a11ea20>,\n",
       " <matplotlib.lines.Line2D at 0x1982a11eb70>,\n",
       " <matplotlib.lines.Line2D at 0x1982a11ecc0>,\n",
       " <matplotlib.lines.Line2D at 0x1982a11ee10>,\n",
       " <matplotlib.lines.Line2D at 0x1982a11ef60>,\n",
       " <matplotlib.lines.Line2D at 0x1982a1250f0>,\n",
       " <matplotlib.lines.Line2D at 0x1982a125240>,\n",
       " <matplotlib.lines.Line2D at 0x1982a125390>,\n",
       " <matplotlib.lines.Line2D at 0x1982a1254e0>,\n",
       " <matplotlib.lines.Line2D at 0x1982a125630>,\n",
       " <matplotlib.lines.Line2D at 0x1982a125780>,\n",
       " <matplotlib.lines.Line2D at 0x1982a1258d0>,\n",
       " <matplotlib.lines.Line2D at 0x1982a125a20>,\n",
       " <matplotlib.lines.Line2D at 0x1982a125b70>,\n",
       " <matplotlib.lines.Line2D at 0x1982a125cc0>,\n",
       " <matplotlib.lines.Line2D at 0x1982a125e10>,\n",
       " <matplotlib.lines.Line2D at 0x1982a125f60>,\n",
       " <matplotlib.lines.Line2D at 0x1982a1290f0>,\n",
       " <matplotlib.lines.Line2D at 0x1982a129240>,\n",
       " <matplotlib.lines.Line2D at 0x1982a129390>,\n",
       " <matplotlib.lines.Line2D at 0x1982a1294e0>,\n",
       " <matplotlib.lines.Line2D at 0x1982a129630>,\n",
       " <matplotlib.lines.Line2D at 0x1982a129780>,\n",
       " <matplotlib.lines.Line2D at 0x1982a1298d0>,\n",
       " <matplotlib.lines.Line2D at 0x1982a129a20>,\n",
       " <matplotlib.lines.Line2D at 0x1982a129b70>,\n",
       " <matplotlib.lines.Line2D at 0x1982a129cc0>,\n",
       " <matplotlib.lines.Line2D at 0x1982a129e10>,\n",
       " <matplotlib.lines.Line2D at 0x1982a129f60>,\n",
       " <matplotlib.lines.Line2D at 0x1982a12e0f0>,\n",
       " <matplotlib.lines.Line2D at 0x1982a12e240>,\n",
       " <matplotlib.lines.Line2D at 0x1982a12e390>,\n",
       " <matplotlib.lines.Line2D at 0x1982a12e4e0>,\n",
       " <matplotlib.lines.Line2D at 0x1982a12e630>,\n",
       " <matplotlib.lines.Line2D at 0x1982a12e780>,\n",
       " <matplotlib.lines.Line2D at 0x1982a12e8d0>,\n",
       " <matplotlib.lines.Line2D at 0x1982a12ea20>,\n",
       " <matplotlib.lines.Line2D at 0x1982a12eb70>,\n",
       " <matplotlib.lines.Line2D at 0x1982a12ecc0>,\n",
       " <matplotlib.lines.Line2D at 0x1982a12ee10>,\n",
       " <matplotlib.lines.Line2D at 0x1982a12ef60>,\n",
       " <matplotlib.lines.Line2D at 0x1982a1340f0>,\n",
       " <matplotlib.lines.Line2D at 0x1982a134240>,\n",
       " <matplotlib.lines.Line2D at 0x1982a134390>,\n",
       " <matplotlib.lines.Line2D at 0x1982a1344e0>,\n",
       " <matplotlib.lines.Line2D at 0x1982a134630>,\n",
       " <matplotlib.lines.Line2D at 0x1982a134780>,\n",
       " <matplotlib.lines.Line2D at 0x1982a1348d0>,\n",
       " <matplotlib.lines.Line2D at 0x1982a134a20>,\n",
       " <matplotlib.lines.Line2D at 0x1982a134b70>,\n",
       " <matplotlib.lines.Line2D at 0x1982a134cc0>,\n",
       " <matplotlib.lines.Line2D at 0x1982a134e10>,\n",
       " <matplotlib.lines.Line2D at 0x1982a134f60>,\n",
       " <matplotlib.lines.Line2D at 0x1982a13b0f0>,\n",
       " <matplotlib.lines.Line2D at 0x1982a13b240>,\n",
       " <matplotlib.lines.Line2D at 0x1982a13b390>,\n",
       " <matplotlib.lines.Line2D at 0x1982a13b4e0>,\n",
       " <matplotlib.lines.Line2D at 0x1982a13b630>,\n",
       " <matplotlib.lines.Line2D at 0x1982a13b780>,\n",
       " <matplotlib.lines.Line2D at 0x1982a13b8d0>,\n",
       " <matplotlib.lines.Line2D at 0x1982a13ba20>,\n",
       " <matplotlib.lines.Line2D at 0x1982a13bb70>,\n",
       " <matplotlib.lines.Line2D at 0x1982a13bcc0>,\n",
       " <matplotlib.lines.Line2D at 0x1982a13be10>,\n",
       " <matplotlib.lines.Line2D at 0x1982a13bf60>,\n",
       " <matplotlib.lines.Line2D at 0x1982a1400f0>,\n",
       " <matplotlib.lines.Line2D at 0x1982a140240>,\n",
       " <matplotlib.lines.Line2D at 0x1982a140390>,\n",
       " <matplotlib.lines.Line2D at 0x1982a1404e0>,\n",
       " <matplotlib.lines.Line2D at 0x1982a140630>,\n",
       " <matplotlib.lines.Line2D at 0x1982a140780>,\n",
       " <matplotlib.lines.Line2D at 0x1982a1408d0>,\n",
       " <matplotlib.lines.Line2D at 0x1982a140a20>,\n",
       " <matplotlib.lines.Line2D at 0x1982a140b70>,\n",
       " <matplotlib.lines.Line2D at 0x1982a140cc0>,\n",
       " <matplotlib.lines.Line2D at 0x1982a140e10>,\n",
       " <matplotlib.lines.Line2D at 0x1982a140f60>,\n",
       " <matplotlib.lines.Line2D at 0x1982a1440f0>,\n",
       " <matplotlib.lines.Line2D at 0x1982a144240>,\n",
       " <matplotlib.lines.Line2D at 0x1982a144390>,\n",
       " <matplotlib.lines.Line2D at 0x1982a1444e0>,\n",
       " <matplotlib.lines.Line2D at 0x1982a144630>,\n",
       " <matplotlib.lines.Line2D at 0x1982a144780>,\n",
       " <matplotlib.lines.Line2D at 0x1982a1448d0>,\n",
       " <matplotlib.lines.Line2D at 0x1982a144a20>,\n",
       " <matplotlib.lines.Line2D at 0x1982a144b70>,\n",
       " <matplotlib.lines.Line2D at 0x1982a144cc0>,\n",
       " <matplotlib.lines.Line2D at 0x1982a144e10>,\n",
       " <matplotlib.lines.Line2D at 0x1982a144f60>,\n",
       " <matplotlib.lines.Line2D at 0x1982a14a0f0>,\n",
       " <matplotlib.lines.Line2D at 0x1982a14a240>,\n",
       " <matplotlib.lines.Line2D at 0x1982a14a390>,\n",
       " <matplotlib.lines.Line2D at 0x1982a14a4e0>,\n",
       " <matplotlib.lines.Line2D at 0x1982a14a630>,\n",
       " <matplotlib.lines.Line2D at 0x1982a14a780>,\n",
       " <matplotlib.lines.Line2D at 0x1982a14a8d0>,\n",
       " <matplotlib.lines.Line2D at 0x1982a14aa20>,\n",
       " <matplotlib.lines.Line2D at 0x1982a14ab70>,\n",
       " <matplotlib.lines.Line2D at 0x1982a14acc0>,\n",
       " <matplotlib.lines.Line2D at 0x1982a14ae10>,\n",
       " <matplotlib.lines.Line2D at 0x1982a14af60>,\n",
       " <matplotlib.lines.Line2D at 0x1982a1500f0>,\n",
       " <matplotlib.lines.Line2D at 0x1982a150240>,\n",
       " <matplotlib.lines.Line2D at 0x1982a150390>,\n",
       " <matplotlib.lines.Line2D at 0x1982a1504e0>,\n",
       " <matplotlib.lines.Line2D at 0x1982a150630>,\n",
       " <matplotlib.lines.Line2D at 0x1982a150780>,\n",
       " <matplotlib.lines.Line2D at 0x1982a1508d0>,\n",
       " <matplotlib.lines.Line2D at 0x1982a150a20>,\n",
       " <matplotlib.lines.Line2D at 0x1982a150b70>,\n",
       " <matplotlib.lines.Line2D at 0x1982a150cc0>,\n",
       " <matplotlib.lines.Line2D at 0x1982a150e10>,\n",
       " <matplotlib.lines.Line2D at 0x1982a150f60>,\n",
       " <matplotlib.lines.Line2D at 0x1982a1540f0>,\n",
       " <matplotlib.lines.Line2D at 0x1982a154240>,\n",
       " <matplotlib.lines.Line2D at 0x1982a154390>,\n",
       " <matplotlib.lines.Line2D at 0x1982a1544e0>,\n",
       " <matplotlib.lines.Line2D at 0x1982a154630>,\n",
       " <matplotlib.lines.Line2D at 0x1982a154780>,\n",
       " <matplotlib.lines.Line2D at 0x1982a1548d0>,\n",
       " <matplotlib.lines.Line2D at 0x1982a154a20>,\n",
       " <matplotlib.lines.Line2D at 0x1982a154b70>,\n",
       " <matplotlib.lines.Line2D at 0x1982a154cc0>,\n",
       " <matplotlib.lines.Line2D at 0x1982a154e10>,\n",
       " <matplotlib.lines.Line2D at 0x1982a154f60>,\n",
       " <matplotlib.lines.Line2D at 0x1982a15a0f0>,\n",
       " <matplotlib.lines.Line2D at 0x1982a15a240>,\n",
       " <matplotlib.lines.Line2D at 0x1982a15a390>,\n",
       " <matplotlib.lines.Line2D at 0x1982a15a4e0>,\n",
       " <matplotlib.lines.Line2D at 0x1982a15a630>,\n",
       " <matplotlib.lines.Line2D at 0x1982a15a780>,\n",
       " <matplotlib.lines.Line2D at 0x1982a15a8d0>,\n",
       " <matplotlib.lines.Line2D at 0x1982a15aa20>,\n",
       " <matplotlib.lines.Line2D at 0x1982a15ab70>,\n",
       " <matplotlib.lines.Line2D at 0x1982a15acc0>,\n",
       " <matplotlib.lines.Line2D at 0x1982a15ae10>,\n",
       " <matplotlib.lines.Line2D at 0x1982a15af60>,\n",
       " <matplotlib.lines.Line2D at 0x1982a15f0f0>,\n",
       " <matplotlib.lines.Line2D at 0x1982a15f240>,\n",
       " <matplotlib.lines.Line2D at 0x1982a15f390>,\n",
       " <matplotlib.lines.Line2D at 0x1982a15f4e0>,\n",
       " <matplotlib.lines.Line2D at 0x1982a15f630>,\n",
       " <matplotlib.lines.Line2D at 0x1982a15f780>,\n",
       " <matplotlib.lines.Line2D at 0x1982a15f8d0>,\n",
       " <matplotlib.lines.Line2D at 0x1982a15fa20>,\n",
       " <matplotlib.lines.Line2D at 0x1982a15fb70>,\n",
       " <matplotlib.lines.Line2D at 0x1982a15fcc0>,\n",
       " <matplotlib.lines.Line2D at 0x1982a15fe10>,\n",
       " <matplotlib.lines.Line2D at 0x1982a15ff60>,\n",
       " <matplotlib.lines.Line2D at 0x1982a1660f0>,\n",
       " <matplotlib.lines.Line2D at 0x1982a166240>,\n",
       " <matplotlib.lines.Line2D at 0x1982a166390>,\n",
       " <matplotlib.lines.Line2D at 0x1982a1664e0>,\n",
       " <matplotlib.lines.Line2D at 0x1982a166630>,\n",
       " <matplotlib.lines.Line2D at 0x1982a166780>,\n",
       " <matplotlib.lines.Line2D at 0x1982a1668d0>,\n",
       " <matplotlib.lines.Line2D at 0x1982a166a20>,\n",
       " <matplotlib.lines.Line2D at 0x1982a166b70>,\n",
       " <matplotlib.lines.Line2D at 0x1982a166cc0>,\n",
       " <matplotlib.lines.Line2D at 0x1982a166e10>,\n",
       " <matplotlib.lines.Line2D at 0x1982a166f60>,\n",
       " <matplotlib.lines.Line2D at 0x1982a16a0f0>,\n",
       " <matplotlib.lines.Line2D at 0x1982a16a240>,\n",
       " <matplotlib.lines.Line2D at 0x1982a16a390>,\n",
       " <matplotlib.lines.Line2D at 0x1982a16a4e0>,\n",
       " <matplotlib.lines.Line2D at 0x1982a16a630>,\n",
       " <matplotlib.lines.Line2D at 0x1982a16a780>,\n",
       " <matplotlib.lines.Line2D at 0x1982a16a8d0>,\n",
       " <matplotlib.lines.Line2D at 0x1982a16aa20>,\n",
       " <matplotlib.lines.Line2D at 0x1982a16ab70>,\n",
       " <matplotlib.lines.Line2D at 0x1982a16acc0>,\n",
       " <matplotlib.lines.Line2D at 0x1982a16ae10>,\n",
       " <matplotlib.lines.Line2D at 0x1982a16af60>,\n",
       " <matplotlib.lines.Line2D at 0x1982a1700f0>,\n",
       " <matplotlib.lines.Line2D at 0x1982a170240>,\n",
       " <matplotlib.lines.Line2D at 0x1982a170390>,\n",
       " <matplotlib.lines.Line2D at 0x1982a1704e0>,\n",
       " <matplotlib.lines.Line2D at 0x1982a170630>,\n",
       " <matplotlib.lines.Line2D at 0x1982a170780>,\n",
       " <matplotlib.lines.Line2D at 0x1982a1708d0>,\n",
       " <matplotlib.lines.Line2D at 0x1982a170a20>,\n",
       " <matplotlib.lines.Line2D at 0x1982a170b70>,\n",
       " <matplotlib.lines.Line2D at 0x1982a170cc0>,\n",
       " <matplotlib.lines.Line2D at 0x1982a170e10>,\n",
       " <matplotlib.lines.Line2D at 0x1982a170f60>,\n",
       " <matplotlib.lines.Line2D at 0x1982a1750f0>,\n",
       " <matplotlib.lines.Line2D at 0x1982a175240>,\n",
       " <matplotlib.lines.Line2D at 0x1982a175390>,\n",
       " <matplotlib.lines.Line2D at 0x1982a1754e0>,\n",
       " <matplotlib.lines.Line2D at 0x1982a175630>,\n",
       " <matplotlib.lines.Line2D at 0x1982a175780>,\n",
       " <matplotlib.lines.Line2D at 0x1982a1758d0>,\n",
       " <matplotlib.lines.Line2D at 0x1982a175a20>,\n",
       " <matplotlib.lines.Line2D at 0x1982a175b70>,\n",
       " <matplotlib.lines.Line2D at 0x1982a175cc0>,\n",
       " <matplotlib.lines.Line2D at 0x1982a175e10>,\n",
       " <matplotlib.lines.Line2D at 0x1982a175f60>,\n",
       " <matplotlib.lines.Line2D at 0x1982a17a0f0>,\n",
       " <matplotlib.lines.Line2D at 0x1982a17a240>,\n",
       " <matplotlib.lines.Line2D at 0x1982a17a390>,\n",
       " <matplotlib.lines.Line2D at 0x1982a17a4e0>,\n",
       " <matplotlib.lines.Line2D at 0x1982a17a630>,\n",
       " <matplotlib.lines.Line2D at 0x1982a17a780>,\n",
       " <matplotlib.lines.Line2D at 0x1982a17a8d0>,\n",
       " <matplotlib.lines.Line2D at 0x1982a17aa20>,\n",
       " <matplotlib.lines.Line2D at 0x1982a17ab70>,\n",
       " <matplotlib.lines.Line2D at 0x1982a17acc0>,\n",
       " <matplotlib.lines.Line2D at 0x1982a17ae10>,\n",
       " <matplotlib.lines.Line2D at 0x1982a17af60>,\n",
       " <matplotlib.lines.Line2D at 0x1982a1800f0>,\n",
       " <matplotlib.lines.Line2D at 0x1982a180240>,\n",
       " <matplotlib.lines.Line2D at 0x1982a180390>,\n",
       " <matplotlib.lines.Line2D at 0x1982a1804e0>,\n",
       " <matplotlib.lines.Line2D at 0x1982a180630>,\n",
       " <matplotlib.lines.Line2D at 0x1982a180780>,\n",
       " <matplotlib.lines.Line2D at 0x1982a1808d0>,\n",
       " <matplotlib.lines.Line2D at 0x1982a180a20>,\n",
       " <matplotlib.lines.Line2D at 0x1982a180b70>,\n",
       " <matplotlib.lines.Line2D at 0x1982a180cc0>,\n",
       " <matplotlib.lines.Line2D at 0x1982a180e10>,\n",
       " <matplotlib.lines.Line2D at 0x1982a180f60>,\n",
       " <matplotlib.lines.Line2D at 0x1982a1850f0>,\n",
       " <matplotlib.lines.Line2D at 0x1982a185240>,\n",
       " <matplotlib.lines.Line2D at 0x1982a185390>,\n",
       " <matplotlib.lines.Line2D at 0x1982a1854e0>,\n",
       " <matplotlib.lines.Line2D at 0x1982a185630>,\n",
       " <matplotlib.lines.Line2D at 0x1982a185780>,\n",
       " <matplotlib.lines.Line2D at 0x1982a1858d0>,\n",
       " <matplotlib.lines.Line2D at 0x1982a185a20>,\n",
       " <matplotlib.lines.Line2D at 0x1982a185b70>,\n",
       " <matplotlib.lines.Line2D at 0x1982a185cc0>,\n",
       " <matplotlib.lines.Line2D at 0x1982a185e10>,\n",
       " <matplotlib.lines.Line2D at 0x1982a185f60>,\n",
       " <matplotlib.lines.Line2D at 0x1982a18a0f0>,\n",
       " <matplotlib.lines.Line2D at 0x1982a18a240>,\n",
       " <matplotlib.lines.Line2D at 0x1982a18a390>,\n",
       " <matplotlib.lines.Line2D at 0x1982a18a4e0>,\n",
       " <matplotlib.lines.Line2D at 0x1982a18a630>,\n",
       " <matplotlib.lines.Line2D at 0x1982a18a780>,\n",
       " <matplotlib.lines.Line2D at 0x1982a18a8d0>,\n",
       " <matplotlib.lines.Line2D at 0x1982a18aa20>,\n",
       " <matplotlib.lines.Line2D at 0x1982a18ab70>,\n",
       " <matplotlib.lines.Line2D at 0x1982a18acc0>,\n",
       " <matplotlib.lines.Line2D at 0x1982a18ae10>,\n",
       " <matplotlib.lines.Line2D at 0x1982a18af60>,\n",
       " <matplotlib.lines.Line2D at 0x1982a18f0f0>,\n",
       " <matplotlib.lines.Line2D at 0x1982a18f240>,\n",
       " <matplotlib.lines.Line2D at 0x1982a18f390>,\n",
       " <matplotlib.lines.Line2D at 0x1982a18f4e0>,\n",
       " <matplotlib.lines.Line2D at 0x1982a18f630>,\n",
       " <matplotlib.lines.Line2D at 0x1982a18f780>,\n",
       " <matplotlib.lines.Line2D at 0x1982a18f8d0>,\n",
       " <matplotlib.lines.Line2D at 0x1982a18fa20>,\n",
       " <matplotlib.lines.Line2D at 0x1982a18fb70>,\n",
       " <matplotlib.lines.Line2D at 0x1982a18fcc0>,\n",
       " <matplotlib.lines.Line2D at 0x1982a18fe10>,\n",
       " <matplotlib.lines.Line2D at 0x1982a18ff60>,\n",
       " <matplotlib.lines.Line2D at 0x1982a1960f0>,\n",
       " <matplotlib.lines.Line2D at 0x1982a196240>,\n",
       " <matplotlib.lines.Line2D at 0x1982a196390>,\n",
       " <matplotlib.lines.Line2D at 0x1982a1964e0>,\n",
       " <matplotlib.lines.Line2D at 0x1982a196630>,\n",
       " <matplotlib.lines.Line2D at 0x1982a196780>,\n",
       " <matplotlib.lines.Line2D at 0x1982a1968d0>,\n",
       " <matplotlib.lines.Line2D at 0x1982a196a20>,\n",
       " <matplotlib.lines.Line2D at 0x1982a196b70>,\n",
       " <matplotlib.lines.Line2D at 0x1982a196cc0>,\n",
       " <matplotlib.lines.Line2D at 0x1982a196e10>,\n",
       " <matplotlib.lines.Line2D at 0x1982a196f60>,\n",
       " <matplotlib.lines.Line2D at 0x1982a19b0f0>,\n",
       " <matplotlib.lines.Line2D at 0x1982a19b240>,\n",
       " <matplotlib.lines.Line2D at 0x1982a19b390>,\n",
       " <matplotlib.lines.Line2D at 0x1982a19b4e0>,\n",
       " <matplotlib.lines.Line2D at 0x1982a19b630>,\n",
       " <matplotlib.lines.Line2D at 0x1982a19b780>,\n",
       " <matplotlib.lines.Line2D at 0x1982a19b8d0>,\n",
       " <matplotlib.lines.Line2D at 0x1982a19ba20>,\n",
       " <matplotlib.lines.Line2D at 0x1982a19bb70>,\n",
       " <matplotlib.lines.Line2D at 0x1982a19bcc0>,\n",
       " <matplotlib.lines.Line2D at 0x1982a19be10>,\n",
       " <matplotlib.lines.Line2D at 0x1982a19bf60>,\n",
       " <matplotlib.lines.Line2D at 0x1982a1a00f0>,\n",
       " <matplotlib.lines.Line2D at 0x1982a1a0240>,\n",
       " <matplotlib.lines.Line2D at 0x1982a1a0390>,\n",
       " <matplotlib.lines.Line2D at 0x1982a1a04e0>,\n",
       " <matplotlib.lines.Line2D at 0x1982a1a0630>,\n",
       " <matplotlib.lines.Line2D at 0x1982a1a0780>,\n",
       " <matplotlib.lines.Line2D at 0x1982a1a08d0>,\n",
       " <matplotlib.lines.Line2D at 0x1982a1a0a20>,\n",
       " <matplotlib.lines.Line2D at 0x1982a1a0b70>,\n",
       " <matplotlib.lines.Line2D at 0x1982a1a0cc0>,\n",
       " <matplotlib.lines.Line2D at 0x1982a1a0e10>,\n",
       " <matplotlib.lines.Line2D at 0x1982a1a0f60>,\n",
       " <matplotlib.lines.Line2D at 0x1982a1a60f0>,\n",
       " <matplotlib.lines.Line2D at 0x1982a1a6240>,\n",
       " <matplotlib.lines.Line2D at 0x1982a1a6390>,\n",
       " <matplotlib.lines.Line2D at 0x1982a1a64e0>,\n",
       " <matplotlib.lines.Line2D at 0x1982a1a6630>,\n",
       " <matplotlib.lines.Line2D at 0x1982a1a6780>,\n",
       " <matplotlib.lines.Line2D at 0x1982a1a68d0>,\n",
       " <matplotlib.lines.Line2D at 0x1982a1a6a20>,\n",
       " <matplotlib.lines.Line2D at 0x1982a1a6b70>,\n",
       " <matplotlib.lines.Line2D at 0x1982a1a6cc0>,\n",
       " <matplotlib.lines.Line2D at 0x1982a1a6e10>,\n",
       " <matplotlib.lines.Line2D at 0x1982a1a6f60>,\n",
       " <matplotlib.lines.Line2D at 0x1982a1ab0f0>,\n",
       " <matplotlib.lines.Line2D at 0x1982a1ab240>,\n",
       " <matplotlib.lines.Line2D at 0x1982a1ab390>,\n",
       " <matplotlib.lines.Line2D at 0x1982a1ab4e0>,\n",
       " <matplotlib.lines.Line2D at 0x1982a1ab630>,\n",
       " <matplotlib.lines.Line2D at 0x1982a1ab780>,\n",
       " <matplotlib.lines.Line2D at 0x1982a1ab8d0>,\n",
       " <matplotlib.lines.Line2D at 0x1982a1aba20>,\n",
       " <matplotlib.lines.Line2D at 0x1982a1abb70>,\n",
       " <matplotlib.lines.Line2D at 0x1982a1abcc0>,\n",
       " <matplotlib.lines.Line2D at 0x1982a1abe10>,\n",
       " <matplotlib.lines.Line2D at 0x1982a1abf60>,\n",
       " <matplotlib.lines.Line2D at 0x1982a1b10f0>,\n",
       " <matplotlib.lines.Line2D at 0x1982a1b1240>,\n",
       " <matplotlib.lines.Line2D at 0x1982a1b1390>,\n",
       " <matplotlib.lines.Line2D at 0x1982a1b14e0>,\n",
       " <matplotlib.lines.Line2D at 0x1982a1b1630>,\n",
       " <matplotlib.lines.Line2D at 0x1982a1b1780>,\n",
       " <matplotlib.lines.Line2D at 0x1982a1b18d0>,\n",
       " <matplotlib.lines.Line2D at 0x1982a1b1a20>,\n",
       " <matplotlib.lines.Line2D at 0x1982a1b1b70>,\n",
       " <matplotlib.lines.Line2D at 0x1982a1b1cc0>,\n",
       " <matplotlib.lines.Line2D at 0x1982a1b1e10>,\n",
       " <matplotlib.lines.Line2D at 0x1982a1b1f60>,\n",
       " <matplotlib.lines.Line2D at 0x1982a1b40f0>,\n",
       " <matplotlib.lines.Line2D at 0x1982a1b4240>,\n",
       " <matplotlib.lines.Line2D at 0x1982a1b4390>,\n",
       " <matplotlib.lines.Line2D at 0x1982a1b44e0>,\n",
       " <matplotlib.lines.Line2D at 0x1982a1b4630>,\n",
       " <matplotlib.lines.Line2D at 0x1982a1b4780>,\n",
       " <matplotlib.lines.Line2D at 0x1982a1b48d0>,\n",
       " <matplotlib.lines.Line2D at 0x1982a1b4a20>,\n",
       " <matplotlib.lines.Line2D at 0x1982a1b4b70>,\n",
       " <matplotlib.lines.Line2D at 0x1982a1b4cc0>,\n",
       " <matplotlib.lines.Line2D at 0x1982a1b4e10>,\n",
       " <matplotlib.lines.Line2D at 0x1982a1b4f60>,\n",
       " <matplotlib.lines.Line2D at 0x1982a1bb0f0>,\n",
       " <matplotlib.lines.Line2D at 0x1982a1bb240>,\n",
       " <matplotlib.lines.Line2D at 0x1982a1bb390>,\n",
       " <matplotlib.lines.Line2D at 0x1982a1bb4e0>,\n",
       " <matplotlib.lines.Line2D at 0x1982a1bb630>,\n",
       " <matplotlib.lines.Line2D at 0x1982a1bb780>,\n",
       " <matplotlib.lines.Line2D at 0x1982a1bb8d0>,\n",
       " <matplotlib.lines.Line2D at 0x1982a1bba20>,\n",
       " <matplotlib.lines.Line2D at 0x1982a1bbb70>,\n",
       " <matplotlib.lines.Line2D at 0x1982a1bbcc0>,\n",
       " <matplotlib.lines.Line2D at 0x1982a1bbe10>,\n",
       " <matplotlib.lines.Line2D at 0x1982a1bbf60>,\n",
       " <matplotlib.lines.Line2D at 0x1982a1c10f0>,\n",
       " <matplotlib.lines.Line2D at 0x1982a1c1240>,\n",
       " <matplotlib.lines.Line2D at 0x1982a1c1390>,\n",
       " <matplotlib.lines.Line2D at 0x1982a1c14e0>,\n",
       " <matplotlib.lines.Line2D at 0x1982a1c1630>,\n",
       " <matplotlib.lines.Line2D at 0x1982a1c1780>,\n",
       " <matplotlib.lines.Line2D at 0x1982a1c18d0>,\n",
       " <matplotlib.lines.Line2D at 0x1982a1c1a20>,\n",
       " <matplotlib.lines.Line2D at 0x1982a1c1b70>,\n",
       " <matplotlib.lines.Line2D at 0x1982a1c1cc0>,\n",
       " <matplotlib.lines.Line2D at 0x1982a1c1e10>,\n",
       " <matplotlib.lines.Line2D at 0x1982a1c1f60>,\n",
       " <matplotlib.lines.Line2D at 0x1982a1c70f0>,\n",
       " <matplotlib.lines.Line2D at 0x1982a1c7240>,\n",
       " <matplotlib.lines.Line2D at 0x1982a1c7390>,\n",
       " <matplotlib.lines.Line2D at 0x1982a1c74e0>,\n",
       " <matplotlib.lines.Line2D at 0x1982a1c7630>,\n",
       " <matplotlib.lines.Line2D at 0x1982a1c7780>,\n",
       " <matplotlib.lines.Line2D at 0x1982a1c78d0>,\n",
       " <matplotlib.lines.Line2D at 0x1982a1c7a20>,\n",
       " <matplotlib.lines.Line2D at 0x1982a1c7b70>,\n",
       " <matplotlib.lines.Line2D at 0x1982a1c7cc0>,\n",
       " <matplotlib.lines.Line2D at 0x1982a1c7e10>,\n",
       " <matplotlib.lines.Line2D at 0x1982a1c7f60>,\n",
       " <matplotlib.lines.Line2D at 0x1982a1cb0f0>,\n",
       " <matplotlib.lines.Line2D at 0x1982a1cb240>,\n",
       " <matplotlib.lines.Line2D at 0x1982a1cb390>,\n",
       " <matplotlib.lines.Line2D at 0x1982a1cb4e0>,\n",
       " <matplotlib.lines.Line2D at 0x1982a1cb630>,\n",
       " <matplotlib.lines.Line2D at 0x1982a1cb780>,\n",
       " <matplotlib.lines.Line2D at 0x1982a1cb8d0>,\n",
       " <matplotlib.lines.Line2D at 0x1982a1cba20>,\n",
       " <matplotlib.lines.Line2D at 0x1982a1cbb70>,\n",
       " <matplotlib.lines.Line2D at 0x1982a1cbcc0>,\n",
       " <matplotlib.lines.Line2D at 0x1982a1cbe10>,\n",
       " <matplotlib.lines.Line2D at 0x1982a1cbf60>,\n",
       " <matplotlib.lines.Line2D at 0x1982a1d10f0>,\n",
       " <matplotlib.lines.Line2D at 0x1982a1d1240>,\n",
       " <matplotlib.lines.Line2D at 0x1982a1d1390>,\n",
       " <matplotlib.lines.Line2D at 0x1982a1d14e0>,\n",
       " <matplotlib.lines.Line2D at 0x1982a1d1630>,\n",
       " <matplotlib.lines.Line2D at 0x1982a1d1780>,\n",
       " <matplotlib.lines.Line2D at 0x1982a1d18d0>,\n",
       " <matplotlib.lines.Line2D at 0x1982a1d1a20>,\n",
       " <matplotlib.lines.Line2D at 0x1982a1d1b70>,\n",
       " <matplotlib.lines.Line2D at 0x1982a1d1cc0>,\n",
       " <matplotlib.lines.Line2D at 0x1982a1d1e10>,\n",
       " <matplotlib.lines.Line2D at 0x1982a1d1f60>,\n",
       " <matplotlib.lines.Line2D at 0x1982a1d60f0>,\n",
       " <matplotlib.lines.Line2D at 0x1982a1d6240>,\n",
       " <matplotlib.lines.Line2D at 0x1982a1d6390>,\n",
       " <matplotlib.lines.Line2D at 0x1982a1d64e0>,\n",
       " <matplotlib.lines.Line2D at 0x1982a1d6630>,\n",
       " <matplotlib.lines.Line2D at 0x1982a1d6780>,\n",
       " <matplotlib.lines.Line2D at 0x1982a1d68d0>,\n",
       " <matplotlib.lines.Line2D at 0x1982a1d6a20>,\n",
       " <matplotlib.lines.Line2D at 0x1982a1d6b70>,\n",
       " <matplotlib.lines.Line2D at 0x1982a1d6cc0>,\n",
       " <matplotlib.lines.Line2D at 0x1982a1d6e10>,\n",
       " <matplotlib.lines.Line2D at 0x1982a1d6f60>,\n",
       " <matplotlib.lines.Line2D at 0x1982a1db0f0>,\n",
       " <matplotlib.lines.Line2D at 0x1982a1db240>,\n",
       " <matplotlib.lines.Line2D at 0x1982a1db390>,\n",
       " <matplotlib.lines.Line2D at 0x1982a1db4e0>,\n",
       " <matplotlib.lines.Line2D at 0x1982a1db630>,\n",
       " <matplotlib.lines.Line2D at 0x1982a1db780>,\n",
       " <matplotlib.lines.Line2D at 0x1982a1db8d0>,\n",
       " <matplotlib.lines.Line2D at 0x1982a1dba20>,\n",
       " <matplotlib.lines.Line2D at 0x1982a1dbb70>,\n",
       " <matplotlib.lines.Line2D at 0x1982a1dbcc0>,\n",
       " <matplotlib.lines.Line2D at 0x1982a1dbe10>,\n",
       " <matplotlib.lines.Line2D at 0x1982a1dbf60>,\n",
       " <matplotlib.lines.Line2D at 0x1982a1e00f0>,\n",
       " <matplotlib.lines.Line2D at 0x1982a1e0240>,\n",
       " <matplotlib.lines.Line2D at 0x1982a1e0390>,\n",
       " <matplotlib.lines.Line2D at 0x1982a1e04e0>,\n",
       " <matplotlib.lines.Line2D at 0x1982a1e0630>,\n",
       " <matplotlib.lines.Line2D at 0x1982a1e0780>,\n",
       " <matplotlib.lines.Line2D at 0x1982a1e08d0>,\n",
       " <matplotlib.lines.Line2D at 0x1982a1e0a20>,\n",
       " <matplotlib.lines.Line2D at 0x1982a1e0b70>,\n",
       " <matplotlib.lines.Line2D at 0x1982a1e0cc0>,\n",
       " <matplotlib.lines.Line2D at 0x1982a1e0e10>,\n",
       " <matplotlib.lines.Line2D at 0x1982a1e0f60>,\n",
       " <matplotlib.lines.Line2D at 0x1982a1e60f0>,\n",
       " <matplotlib.lines.Line2D at 0x1982a1e6240>,\n",
       " <matplotlib.lines.Line2D at 0x1982a1e6390>,\n",
       " <matplotlib.lines.Line2D at 0x1982a1e64e0>,\n",
       " <matplotlib.lines.Line2D at 0x1982a1e6630>,\n",
       " <matplotlib.lines.Line2D at 0x1982a1e6780>,\n",
       " <matplotlib.lines.Line2D at 0x1982a1e68d0>]"
      ]
     },
     "execution_count": 60,
     "metadata": {},
     "output_type": "execute_result"
    },
    {
     "data": {
      "image/png": "[encoded data removed]",
      "text/plain": [
       "<Figure size 432x288 with 1 Axes>"
      ]
     },
     "metadata": {
      "needs_background": "light"
     },
     "output_type": "display_data"
    }
   ],
   "source": [
    "x = np.linspace(-5,5,1000)\n",
    "y= np.sinc(x)\n",
    "plt.plot(x,y,lw = 6)\n",
    "plt.plot([x>0],[y<0],\"o\")"
   ]
  },
  {
   "cell_type": "code",
   "execution_count": 61,
   "metadata": {},
   "outputs": [],
   "source": [
    "import sympy as sym"
   ]
  },
  {
   "cell_type": "code",
   "execution_count": 62,
   "metadata": {},
   "outputs": [
    {
     "data": {
      "text/plain": [
       "0.8333333333333333"
      ]
     },
     "execution_count": 62,
     "metadata": {},
     "output_type": "execute_result"
    }
   ],
   "source": [
    "1/2+1/3"
   ]
  },
  {
   "cell_type": "markdown",
   "metadata": {},
   "source": [
    "sym.Rational(1,2)+sym.Rational(1,3)"
   ]
  },
  {
   "cell_type": "code",
   "execution_count": 63,
   "metadata": {},
   "outputs": [
    {
     "data": {
      "text/plain": [
       "5/6"
      ]
     },
     "execution_count": 63,
     "metadata": {},
     "output_type": "execute_result"
    }
   ],
   "source": [
    "sym.Rational(1,2)+sym.Rational(1,3)"
   ]
  },
  {
   "cell_type": "code",
   "execution_count": 64,
   "metadata": {},
   "outputs": [
    {
     "data": {
      "text/plain": [
       "5/6"
      ]
     },
     "execution_count": 64,
     "metadata": {},
     "output_type": "execute_result"
    }
   ],
   "source": [
    "sym.S(1)/2+sym.S(1)/3"
   ]
  },
  {
   "cell_type": "code",
   "execution_count": 65,
   "metadata": {},
   "outputs": [],
   "source": [
    "from sympy import S,N"
   ]
  },
  {
   "cell_type": "code",
   "execution_count": 66,
   "metadata": {},
   "outputs": [
    {
     "data": {
      "text/plain": [
       "7/6"
      ]
     },
     "execution_count": 66,
     "metadata": {},
     "output_type": "execute_result"
    }
   ],
   "source": [
    "S(1)/2+S(2)/3"
   ]
  },
  {
   "cell_type": "code",
   "execution_count": 67,
   "metadata": {},
   "outputs": [
    {
     "data": {
      "text/plain": [
       "pi"
      ]
     },
     "execution_count": 67,
     "metadata": {},
     "output_type": "execute_result"
    }
   ],
   "source": [
    "sym.pi"
   ]
  },
  {
   "cell_type": "code",
   "execution_count": 68,
   "metadata": {},
   "outputs": [],
   "source": [
    "π = sym.pi"
   ]
  },
  {
   "cell_type": "code",
   "execution_count": 69,
   "metadata": {},
   "outputs": [
    {
     "data": {
      "text/plain": [
       "3.141592653589793238462643383279502884197169399375105820974944592307816406286208998628034825342117067982148086513282306647093844609550582231725359408128481117450284102701938521105559644622948954930381964428810975665933446128475648233786783165271201909145648566923460348610454326648213393607260249141273724587006606315588174881520920962829254091715364367892590360011330530548820466521384146951941511609433057270365759591953092186117381932611793105118548074462379962749567351885752724891227938183011949129833673362440656643086021394946395224737190702179860943702770539217176293176752384674818467669405132000568127145263560827785771342757789609173637178721468440901224953430146549585371050792279689258923542019956112129021960864034418159813629774771309960518707211349999998372978049951059731732816096318595024459455346908302642522308253344685035261931188171010003137838752886587533208381420617177669147303598253490428755468731159562863882353787593751957781857780532171226806613001927876611195909216420198938095257201065485863278865936153381827968230301952035301852968995773622599413891249721775283479131515574857242454150695950829533116861727855889075098381754637464939319255060400927701671139009848824012858361603563707660104710181942955596198946767837449448255379774726847104047534646208046684259069491293313677028989152104752162056966024058038150193511253382430035587640247496473263914199272604269922796782354781636009341721641219924586315030286182974555706749838505494588586926995690927210797509302955321165344987202755960236480665499119881834797753566369807426542527862551818417574672890977772793800081647060016145249192173217214772350141441973568548161361157352552133475741849468438523323907394143334547762416862518983569485562099219222184272550254256887671790494601653466804988627232791786085784383827967976681454100953883786360950680064225125205117392984896084128488626945604241965285022210661186306744278622039194945047123713786960956364371917287467764657573962413890865832645995813390478027590099465764078951269468398352595709825822620522489407726719478268482601476990902640136394437455305068203496252451749399651431429809190659250937221696461515709858387410597885959772975498930161753928468138268683868942774155991855925245953959431049972524680845987273644695848653836736222626099124608051243884390451244136549762780797715691435997700129616089441694868555848406353422072225828488648158456028506016842739452267467678895252138522549954666727823986456596116354886230577456498035593634568174324112515076069479451096596094025228879710893145669136867228748940560101503308617928680920874760917824938589009714909675985261365549781893129784821682998948722658804857564014270477555132379641451523746234364542858444795265867821051141354735739523113427166102135969536231442952484937187110145765403590279934403742007310578539062198387447808478489683321445713868751943506430218453191048481005370614680674919278191197939952061419663428754440643745123718192179998391015919561814675142691239748940907186494231961567945208095146550225231603881930142093762137855956638937787083039069792077346722182562599661501421503068038447734549202605414665925201497442850732518666002132434088190710486331734649651453905796268561005508106658796998163574736384052571459102897064140110971206280439039759515677157700420337869936007230558763176359421873125147120532928191826186125867321579198414848829164470609575270695722091756711672291098169091528017350671274858322287183520935396572512108357915136988209144421006751033467110314126711136990865851639831501970165151168517143765761835155650884909989859982387345528331635507647918535893226185489632132933089857064204675259070915481416549859461637180270981994309924488957571282890592323326097299712084433573265489382391193259746366730583604142813883032038249037589852437441702913276561809377344403070746921120191302033038019762110110044929321516084244485963766983895228684783123552658213144957685726243344189303968642624341077322697802807318915441101044682325271620105265227211166039666557309254711055785376346682065310989652691862056476931257058635662018558100729360659876486117910453348850346113657686753249441668039626579787718556084552965412665408530614344431858676975145661406800700237877659134401712749470420562230538994561314071127000407854733269939081454664645880797270826683063432858785698305235808933065757406795457163775254202114955761581400250126228594130216471550979259230990796547376125517656751357517829666454779174501129961489030463994713296210734043751895735961458901938971311179042978285647503203198691514028708085990480109412147221317947647772622414254854540332157185306142288137585043063321751829798662237172159160771669254748738986654949450114654062843366393790039769265672146385306736096571209180763832716641627488880078692560290228472104031721186082041900042296617119637792133757511495950156604963186294726547364252308177036751590673502350728354056704038674351362222477158915049530984448933309634087807693259939780541934144737744184263129860809988868741326047215695162396586457302163159819319516735381297416772947867242292465436680098067692823828068996400482435403701416314965897940924323789690706977942236250822168895738379862300159377647165122893578601588161755782973523344604281512627203734314653197777416031990665541876397929334419521541341899485444734567383162499341913181480927777103863877343177207545654532207770921201905166096280490926360197598828161332316663652861932668633606273567630354477628035045077723554710585954870279081435624014517180624643626794561275318134078330336254232783944975382437205835311477119926063813346776879695970309833913077109870408591337464144282277263465947047458784778720192771528073176790770715721344473060570073349243693113835049316312840425121925651798069411352801314701304781643788518529092854520116583934196562134914341595625865865570552690496520985803385072242648293972858478316305777756068887644624824685792603953527734803048029005876075825104747091643961362676044925627420420832085661190625454337213153595845068772460290161876679524061634252257719542916299193064553779914037340432875262888963995879475729174642635745525407909145135711136941091193932519107602082520261879853188770584297259167781314969900901921169717372784768472686084900337702424291651300500516832336435038951702989392233451722013812806965011784408745196012122859937162313017114448464090389064495444006198690754851602632750529834918740786680881833851022833450850486082503930213321971551843063545500766828294930413776552793975175461395398468339363830474611996653858153842056853386218672523340283087112328278921250771262946322956398989893582116745627010218356462201349671518819097303811980049734072396103685406643193950979019069963955245300545058068550195673022921913933918568034490398205955100226353536192041994745538593810234395544959778377902374216172711172364343543947822181852862408514006660443325888569867054315470696574745855033232334210730154594051655379068662733379958511562578432298827372319898757141595781119635833005940873068121602876496286744604774649159950549737425626901049037781986835938146574126804925648798556145372347867330390468838343634655379498641927056387293174872332083760112302991136793862708943879936201629515413371424892830722012690147546684765357616477379467520049075715552781965362132392640616013635815590742202020318727760527721900556148425551879253034351398442532234157623361064250639049750086562710953591946589751413103482276930624743536325691607815478181152843667957061108615331504452127473924544945423682886061340841486377670096120715124914043027253860764823634143346235189757664521641376796903149501910857598442391986291642193994907236234646844117394032659184044378051333894525742399508296591228508555821572503107125701266830240292952522011872676756220415420516184163484756516999811614101002996078386909291603028840026910414079288621507842451670908700069928212066041837180653556725253256753286129104248776182582976515795984703562226293486003415872298053498965022629174878820273420922224533985626476691490556284250391275771028402799806636582548892648802545661017296702664076559042909945681506526530537182941270336931378517860904070866711496558343434769338578171138645587367812301458768712660348913909562009939361031029161615288138437909904231747336394804575931493140529763475748119356709110137751721008031559024853090669203767192203322909433467685142214477379393751703443661991040337511173547191855046449026365512816228824462575916333039107225383742182140883508657391771509682887478265699599574490661758344137522397096834080053559849175417381883999446974867626551658276584835884531427756879002909517028352971634456212964043523117600665101241200659755851276178583829204197484423608007193045761893234922927965019875187212726750798125547095890455635792122103334669749923563025494780249011419521238281530911407907386025152274299581807247162591668545133312394804947079119153267343028244186041426363954800044800267049624820179289647669758318327131425170296923488962766844032326092752496035799646925650493681836090032380929345958897069536534940603402166544375589004563288225054525564056448246515187547119621844396582533754388569094113031509526179378002974120766514793942590298969594699556576121865619673378623625612521632086286922210327488921865436480229678070576561514463204692790682120738837781423356282360896320806822246801224826117718589638140918390367367222088832151375560037279839400415297002878307667094447456013455641725437090697939612257142989467154357846878861444581231459357198492252847160504922124247014121478057345510500801908699603302763478708108175450119307141223390866393833952942578690507643100638351983438934159613185434754649556978103829309716465143840700707360411237359984345225161050702705623526601276484830840761183013052793205427462865403603674532865105706587488225698157936789766974220575059683440869735020141020672358502007245225632651341055924019027421624843914035998953539459094407046912091409387001264560016237428802109276457931065792295524988727584610126483699989225695968815920560010165525637568"
      ]
     },
     "execution_count": 69,
     "metadata": {},
     "output_type": "execute_result"
    }
   ],
   "source": [
    "N(π,10000)"
   ]
  },
  {
   "cell_type": "code",
   "execution_count": 70,
   "metadata": {},
   "outputs": [],
   "source": [
    "pistring = str(N(π,100000))"
   ]
  },
  {
   "cell_type": "code",
   "execution_count": 72,
   "metadata": {},
   "outputs": [
    {
     "data": {
      "text/plain": [
       "'3'"
      ]
     },
     "execution_count": 72,
     "metadata": {},
     "output_type": "execute_result"
    }
   ],
   "source": [
    "pistring[527]"
   ]
  },
  {
   "cell_type": "code",
   "execution_count": 73,
   "metadata": {},
   "outputs": [
    {
     "data": {
      "text/plain": [
       "True"
      ]
     },
     "execution_count": 73,
     "metadata": {},
     "output_type": "execute_result"
    }
   ],
   "source": [
    "'0527' in pistring"
   ]
  },
  {
   "cell_type": "code",
   "execution_count": 81,
   "metadata": {},
   "outputs": [
    {
     "data": {
      "text/plain": [
       "74414"
      ]
     },
     "execution_count": 81,
     "metadata": {},
     "output_type": "execute_result"
    }
   ],
   "source": [
    "pistring.find('09323')"
   ]
  },
  {
   "cell_type": "code",
   "execution_count": 82,
   "metadata": {},
   "outputs": [
    {
     "data": {
      "text/plain": [
       "False"
      ]
     },
     "execution_count": 82,
     "metadata": {},
     "output_type": "execute_result"
    }
   ],
   "source": [
    "a= 9487\n",
    "sym.isprime(a)"
   ]
  },
  {
   "cell_type": "code",
   "execution_count": 83,
   "metadata": {},
   "outputs": [
    {
     "data": {
      "text/plain": [
       "{53: 1, 179: 1}"
      ]
     },
     "execution_count": 83,
     "metadata": {},
     "output_type": "execute_result"
    }
   ],
   "source": [
    "sym.factorint(9487)"
   ]
  },
  {
   "cell_type": "code",
   "execution_count": 84,
   "metadata": {},
   "outputs": [
    {
     "data": {
      "text/plain": [
       "9487"
      ]
     },
     "execution_count": 84,
     "metadata": {},
     "output_type": "execute_result"
    }
   ],
   "source": [
    "53*179\n"
   ]
  },
  {
   "cell_type": "code",
   "execution_count": 85,
   "metadata": {},
   "outputs": [
    {
     "data": {
      "text/plain": [
       "True"
      ]
     },
     "execution_count": 85,
     "metadata": {},
     "output_type": "execute_result"
    }
   ],
   "source": [
    "sym.isprime(179)"
   ]
  },
  {
   "cell_type": "code",
   "execution_count": 86,
   "metadata": {},
   "outputs": [
    {
     "data": {
      "text/plain": [
       "449"
      ]
     },
     "execution_count": 86,
     "metadata": {},
     "output_type": "execute_result"
    }
   ],
   "source": [
    "sym.prime(87)"
   ]
  },
  {
   "cell_type": "code",
   "execution_count": 87,
   "metadata": {},
   "outputs": [
    {
     "data": {
      "text/plain": [
       "457"
      ]
     },
     "execution_count": 87,
     "metadata": {},
     "output_type": "execute_result"
    }
   ],
   "source": [
    "sym.nextprime(449)"
   ]
  },
  {
   "cell_type": "code",
   "execution_count": 89,
   "metadata": {},
   "outputs": [
    {
     "name": "stdout",
     "output_type": "stream",
     "text": [
      "(a)and(b)is\n",
      "(a)and(b)is\n",
      "(a)and(b)is\n",
      "(a)and(b)is\n",
      "(a)and(b)is\n",
      "(a)and(b)is\n",
      "(a)and(b)is\n",
      "(a)and(b)is\n",
      "(a)and(b)is\n",
      "(a)and(b)is\n",
      "(a)and(b)is\n",
      "(a)and(b)is\n",
      "(a)and(b)is\n",
      "(a)and(b)is\n",
      "(a)and(b)is\n",
      "(a)and(b)is\n"
     ]
    }
   ],
   "source": [
    "for i in range (2,50):\n",
    "    a= sym.prime(i)\n",
    "    b= sym.prime(i+1)\n",
    "    if b-a == 2:\n",
    "        print(f'(a)and(b)is' )"
   ]
  },
  {
   "cell_type": "code",
   "execution_count": 91,
   "metadata": {},
   "outputs": [],
   "source": [
    "A= sym.Matrix([[2,-1,3],[0,1,2,],[-1,1,2]])"
   ]
  },
  {
   "cell_type": "code",
   "execution_count": 92,
   "metadata": {},
   "outputs": [
    {
     "data": {
      "text/plain": [
       "Matrix([\n",
       "[ 2, -1, 3],\n",
       "[ 0,  1, 2],\n",
       "[-1,  1, 2]])"
      ]
     },
     "execution_count": 92,
     "metadata": {},
     "output_type": "execute_result"
    }
   ],
   "source": [
    "A"
   ]
  },
  {
   "cell_type": "code",
   "execution_count": 93,
   "metadata": {},
   "outputs": [
    {
     "data": {
      "text/plain": [
       "5"
      ]
     },
     "execution_count": 93,
     "metadata": {},
     "output_type": "execute_result"
    }
   ],
   "source": [
    "A.det()"
   ]
  },
  {
   "cell_type": "code",
   "execution_count": 94,
   "metadata": {},
   "outputs": [
    {
     "data": {
      "text/plain": [
       "Matrix([\n",
       "[   0,    1,   -1],\n",
       "[-2/5,  7/5, -4/5],\n",
       "[ 1/5, -1/5,  2/5]])"
      ]
     },
     "execution_count": 94,
     "metadata": {},
     "output_type": "execute_result"
    }
   ],
   "source": [
    "A.inv()"
   ]
  },
  {
   "cell_type": "code",
   "execution_count": 96,
   "metadata": {},
   "outputs": [],
   "source": [
    "x= sym.Symbol('x')"
   ]
  },
  {
   "cell_type": "code",
   "execution_count": 97,
   "metadata": {},
   "outputs": [],
   "source": [
    "f = x**2+3*x+2"
   ]
  },
  {
   "cell_type": "code",
   "execution_count": 98,
   "metadata": {},
   "outputs": [
    {
     "data": {
      "text/plain": [
       "x**2 + 3*x + 2"
      ]
     },
     "execution_count": 98,
     "metadata": {},
     "output_type": "execute_result"
    }
   ],
   "source": [
    "f"
   ]
  },
  {
   "cell_type": "code",
   "execution_count": 99,
   "metadata": {},
   "outputs": [
    {
     "data": {
      "text/plain": [
       "2*x + 3"
      ]
     },
     "execution_count": 99,
     "metadata": {},
     "output_type": "execute_result"
    }
   ],
   "source": [
    "sym.diff(f,x)"
   ]
  },
  {
   "cell_type": "code",
   "execution_count": 100,
   "metadata": {},
   "outputs": [
    {
     "data": {
      "text/plain": [
       "1/(x**2 + 1)"
      ]
     },
     "execution_count": 100,
     "metadata": {},
     "output_type": "execute_result"
    }
   ],
   "source": [
    "from sympy.abc import x,y,z\n",
    "f= sym.atan(x)\n",
    "sym.diff(f,x)"
   ]
  },
  {
   "cell_type": "code",
   "execution_count": 101,
   "metadata": {},
   "outputs": [
    {
     "data": {
      "text/plain": [
       "x*atan(x) - log(x**2 + 1)/2"
      ]
     },
     "execution_count": 101,
     "metadata": {},
     "output_type": "execute_result"
    }
   ],
   "source": [
    "sym.integrate(f,x)"
   ]
  },
  {
   "cell_type": "code",
   "execution_count": 102,
   "metadata": {},
   "outputs": [
    {
     "ename": "SyntaxError",
     "evalue": "unexpected EOF while parsing (<ipython-input-102-5a498975ebbe>, line 1)",
     "output_type": "error",
     "traceback": [
      "\u001b[1;36m  File \u001b[1;32m\"<ipython-input-102-5a498975ebbe>\"\u001b[1;36m, line \u001b[1;32m1\u001b[0m\n\u001b[1;33m    sym.integrate(f,(x,0,1)\u001b[0m\n\u001b[1;37m                           ^\u001b[0m\n\u001b[1;31mSyntaxError\u001b[0m\u001b[1;31m:\u001b[0m unexpected EOF while parsing\n"
     ]
    }
   ],
   "source": [
    "sym.integrate(f,(x,0,1)"
   ]
  },
  {
   "cell_type": "code",
   "execution_count": null,
   "metadata": {},
   "outputs": [],
   "source": []
  }
 ],
 "metadata": {
  "kernelspec": {
   "display_name": "Python 3",
   "language": "python",
   "name": "python3"
  },
  "language_info": {
   "codemirror_mode": {
    "name": "ipython",
    "version": 3
   },
   "file_extension": ".py",
   "mimetype": "text/x-python",
   "name": "python",
   "nbconvert_exporter": "python",
   "pygments_lexer": "ipython3",
   "version": "3.7.1"
  }
 },
 "nbformat": 4,
 "nbformat_minor": 2
}
